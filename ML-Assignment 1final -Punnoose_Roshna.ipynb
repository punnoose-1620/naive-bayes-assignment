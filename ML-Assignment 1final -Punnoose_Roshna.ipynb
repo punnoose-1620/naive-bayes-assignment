{
 "cells": [
  {
   "cell_type": "markdown",
   "metadata": {},
   "source": [
    "# Machine Learning - Assignment 1\n",
    "\n",
    "## Naive Bayes Learning algorithm, Cross-validation, and ROC-Curves"
   ]
  },
  {
   "cell_type": "markdown",
   "metadata": {},
   "source": [
    "The aim of the assignment is to implement:\n",
    "\n",
    "* Naive Bayes learning algorithm for binary classification tasks\n",
    "* Visualization to plot a ROC-curve\n",
    "* A cross-validation test\n",
    "* Visualization of the average ROC-curve of a cross-validation test\n",
    "\n",
    "Follow the instructions and implement what is missing to complete the assignment. Some functions have been started to help you a little bit with the inputs or outputs of the function.\n",
    "\n",
    "**Note:** You might need to go back and forth during your implementation of the code. The structure is set up to make implementation easier, but how you return values from the different functions might vary, and you might find yourself going back and change something to make it easier later on."
   ]
  },
  {
   "cell_type": "markdown",
   "metadata": {},
   "source": [
    "## Assignment preparations"
   ]
  },
  {
   "cell_type": "markdown",
   "metadata": {},
   "source": [
    "We help you out with importing the libraries and reading the data.\n",
    "\n",
    "Look at the output to get an idea of how the data is structured."
   ]
  },
  {
   "cell_type": "code",
   "execution_count": 5,
   "metadata": {},
   "outputs": [
    {
     "name": "stdout",
     "output_type": "stream",
     "text": [
      "Full data array (features and labels):\n",
      "[[5.1 3.5 1.4 0.2 0]\n",
      " [4.9 3.0 1.4 0.2 0]\n",
      " [4.7 3.2 1.3 0.2 0]]\n",
      "\n",
      "###############\n",
      "\n",
      "Train features (first 4 columns):\n",
      "[[5.1 3.5 1.4 0.2]\n",
      " [4.9 3.0 1.4 0.2]\n",
      " [4.7 3.2 1.3 0.2]]\n",
      "\n",
      "Labels (last column):\n",
      "[[0]\n",
      " [0]\n",
      " [0]]\n",
      "\n",
      "Names of labels:\n",
      "[[0, 'Iris-setosa'], [1, 'Iris-versicolor'], [2, 'Iris-virginica']]\n"
     ]
    }
   ],
   "source": [
    "import numpy as np\n",
    "import pandas as pd\n",
    "import matplotlib.pyplot as plt\n",
    "\n",
    "from math import e, pi, sqrt\n",
    "\n",
    "data = pd.read_csv(\"iris.csv\").to_numpy()\n",
    "\n",
    "mapped, index, unique_arr = np.unique(data[:, -1], return_index=True, return_inverse=True)\n",
    "data[:, -1] = unique_arr\n",
    "iris_setosa, iris_versicolor, iris_virginica = np.split(data, index[1:])\n",
    "\n",
    "print(f\"Full data array (features and labels):\\n{iris_setosa[:3]}\\n\")\n",
    "print(\"###############\\n\")\n",
    "print(f\"Train features (first 4 columns):\\n{iris_setosa[:3, :-1]}\\n\")\n",
    "print(f\"Labels (last column):\\n{iris_setosa[:3, -1:]}\\n\")\n",
    "print(f\"Names of labels:\\n{[[numb, name] for numb, name in enumerate(mapped)]}\")"
   ]
  },
  {
   "cell_type": "code",
   "execution_count": 6,
   "metadata": {},
   "outputs": [
    {
     "data": {
      "text/plain": [
       "array([[5.1, 3.5, 1.4, 0.2, 0],\n",
       "       [4.9, 3.0, 1.4, 0.2, 0],\n",
       "       [4.7, 3.2, 1.3, 0.2, 0]], dtype=object)"
      ]
     },
     "execution_count": 6,
     "metadata": {},
     "output_type": "execute_result"
    }
   ],
   "source": [
    "# Example print of the 3 first datapoints (similar as above):\n",
    "iris_setosa[:3]"
   ]
  },
  {
   "cell_type": "markdown",
   "metadata": {},
   "source": [
    "## Data handling functions\n",
    "\n",
    "As a start, we are going to implement some basic data handling functions to use in the future."
   ]
  },
  {
   "cell_type": "markdown",
   "metadata": {},
   "source": [
    "### 1) Split class into a train and test set\n",
    "\n",
    "First, we need to be able to split the class into a train and test set."
   ]
  },
  {
   "cell_type": "code",
   "execution_count": 7,
   "metadata": {},
   "outputs": [],
   "source": [
    "# split class into train and test\n",
    "def train_test_split(class_data,test_size=0.2,random_seed=None):\n",
    "    if random_seed is not None:\n",
    "        np.random.seed(random_seed)\n",
    "    \n",
    "    shuffle_indices=np.arange(len(class_data))\n",
    "    np.random.shuffle(shuffle_indices)\n",
    "    shuffle_data=class_data[shuffle_indices] \n",
    "    \n",
    "    split_index=int(len(class_data)*(1-test_size))\n",
    "    train=shuffle_data[:split_index]\n",
    "    test=shuffle_data[split_index:]\n",
    "    return train,test "
   ]
  },
  {
   "cell_type": "code",
   "execution_count": 8,
   "metadata": {},
   "outputs": [
    {
     "name": "stdout",
     "output_type": "stream",
     "text": [
      "train dataset:\n",
      "[[6.1 2.8 4.7 1.2 1]\n",
      " [5.7 3.8 1.7 0.3 0]\n",
      " [7.7 2.6 6.9 2.3 2]\n",
      " [6.0 2.9 4.5 1.5 1]\n",
      " [6.8 2.8 4.8 1.4 1]]\n",
      "test data set:\n",
      "[[6.1 3.0 4.6 1.4 1]\n",
      " [4.5 2.3 1.3 0.3 0]\n",
      " [6.6 2.9 4.6 1.3 1]\n",
      " [5.5 2.6 4.4 1.2 1]\n",
      " [5.3 3.7 1.5 0.2 0]]\n"
     ]
    }
   ],
   "source": [
    "# TODO: Test the train_test_split function\n",
    "train_data,test_data = train_test_split(data,test_size=0.2,random_seed=42)\n",
    "\n",
    "print(f\"train dataset:\\n{train_data[:5]}\")\n",
    "print(f\"test data set:\\n{test_data[:5]}\")"
   ]
  },
  {
   "cell_type": "markdown",
   "metadata": {},
   "source": [
    "### 2) Split data into features and labels\n",
    "\n",
    "The data as shown above is not always the optimal shape. To help us keep track of things, we can split the data into its features and labels seperately.\n",
    "\n",
    "Each class is 4 features and 1 label in the same array: \n",
    "\n",
    "* **[feature 1, feature 2, feature 3, feature 4, label]**\n",
    "\n",
    "It would help us later to have the features and labels in seperate arrays in the form: \n",
    "\n",
    "* **[feature 1, feature 2, feature 3, feature 4]** and **[label]**\n",
    "\n",
    "Here you are going to implement this functionallity."
   ]
  },
  {
   "cell_type": "code",
   "execution_count": 9,
   "metadata": {},
   "outputs": [],
   "source": [
    "def class_split(data):\n",
    "\n",
    "    features=data[:,:-1]\n",
    "    labels=data[:,-1]\n",
    "    \n",
    "    return features, labels"
   ]
  },
  {
   "cell_type": "markdown",
   "metadata": {},
   "source": [
    "We should first test the \"**class_split**\" function on one of the classes above (iris_setosa, etc...) to make sure it works properly."
   ]
  },
  {
   "cell_type": "code",
   "execution_count": 10,
   "metadata": {},
   "outputs": [
    {
     "name": "stdout",
     "output_type": "stream",
     "text": [
      "features of iris setosa:\n",
      "[[5.1 3.5 1.4 0.2]\n",
      " [4.9 3.0 1.4 0.2]\n",
      " [4.7 3.2 1.3 0.2]\n",
      " [4.6 3.1 1.5 0.2]\n",
      " [5.0 3.6 1.4 0.2]]\n",
      "labels of iris setosa:\n",
      "[0 0 0 0 0]\n"
     ]
    }
   ],
   "source": [
    "# TODO: Test the class splitting function\n",
    "feature_setosa,label_setosa= class_split(iris_setosa)\n",
    "\n",
    "# TODO: Print the output\n",
    "print(f\"features of iris setosa:\\n{feature_setosa[:5]}\")\n",
    "print(f\"labels of iris setosa:\\n{label_setosa[:5]}\")"
   ]
  },
  {
   "cell_type": "markdown",
   "metadata": {},
   "source": [
    "We should also try to **1)** first split a class into a train and test set, **2)** split each of these two into features and abels. In total there should be 4 arrays (2 feature and 2 label arrays)."
   ]
  },
  {
   "cell_type": "code",
   "execution_count": 11,
   "metadata": {},
   "outputs": [
    {
     "name": "stdout",
     "output_type": "stream",
     "text": [
      "features of train:\n",
      "[[6.1 2.8 4.7 1.2]\n",
      " [5.7 3.8 1.7 0.3]\n",
      " [7.7 2.6 6.9 2.3]\n",
      " [6.0 2.9 4.5 1.5]\n",
      " [6.8 2.8 4.8 1.4]]\n",
      "labels of train\n",
      "[1 0 2 1 1]\n",
      "features of test data:\n",
      "[[6.1 3.0 4.6 1.4]\n",
      " [4.5 2.3 1.3 0.3]\n",
      " [6.6 2.9 4.6 1.3]\n",
      " [5.5 2.6 4.4 1.2]\n",
      " [5.3 3.7 1.5 0.2]]\n",
      "labels of test data:\n",
      "[1 0 1 1 0]\n"
     ]
    }
   ],
   "source": [
    "# split train and test into features and labels\n",
    "\n",
    "train_features,train_labels=class_split(train_data)\n",
    "test_features,test_labels=class_split(test_data)\n",
    "\n",
    "# print values\n",
    "print(f\"features of train:\\n{train_features[:5]}\")\n",
    "print(f\"labels of train\\n{train_labels[:5]}\")\n",
    "print(f\"features of test data:\\n{test_features[:5]}\")\n",
    "print(f\"labels of test data:\\n{test_labels[:5]}\")\n"
   ]
  },
  {
   "cell_type": "markdown",
   "metadata": {},
   "source": [
    "Think a bit before going to the next task, what can easily go wrong in the above code?"
   ]
  },
  {
   "cell_type": "markdown",
   "metadata": {},
   "source": [
    "## Naive Bayes learning algorithm"
   ]
  },
  {
   "cell_type": "markdown",
   "metadata": {},
   "source": [
    "When implementing the Navie Bayes learning algorithm, we can break it down into a few components.\n",
    "\n",
    "We will implement these components one at a time."
   ]
  },
  {
   "cell_type": "markdown",
   "metadata": {},
   "source": [
    "### 3) Calculate feature statistics\n",
    "\n",
    "First, we need to implement a function that returns feature statistics (means, standard deviation, priors) for a given set of feature data for a single class. This is the equivalent of \"training\" the naive bayes model.\n",
    "\n",
    "**Note 1:** Each feature gets its own mean and standard deviation!\n",
    "\n",
    "**Note 2:** The way you structure the functions (what is returned) shapes the remainder of the assignment."
   ]
  },
  {
   "cell_type": "code",
   "execution_count": 12,
   "metadata": {},
   "outputs": [],
   "source": [
    "def calculate_feature_statistics(feature_data):\n",
    "    feature_data=np.array(feature_data,dtype=float)\n",
    "    means=np.mean(feature_data,axis=0).round(4)\n",
    "    std_dev=np.std(feature_data,axis=0).round(4)\n",
    "    std_dev=np.where(std_dev==0,1e-6,std_dev)\n",
    "    \n",
    "   \n",
    "   \n",
    "    \n",
    "    return means,std_dev\n",
    "    "
   ]
  },
  {
   "cell_type": "markdown",
   "metadata": {},
   "source": [
    "To make sure the function works, we should test it before proceding."
   ]
  },
  {
   "cell_type": "code",
   "execution_count": 13,
   "metadata": {},
   "outputs": [
    {
     "name": "stdout",
     "output_type": "stream",
     "text": [
      "setosa statistics:\n",
      ":(array([4.986 , 3.4349, 1.4674, 0.2465]), array([0.338 , 0.3436, 0.1748, 0.1086]))\n",
      "versicolor statistics:\n",
      "(array([5.9205, 2.7718, 4.2641, 1.3385]), array([0.5019, 0.3266, 0.4812, 0.2108]))\n"
     ]
    }
   ],
   "source": [
    "train_features=np.array(train_features,dtype=float)\n",
    "setosa_feature=train_features[train_labels==0]\n",
    "\n",
    "versicolor_features=train_features[train_labels==1]\n",
    "\n",
    "setosa_stat=calculate_feature_statistics(setosa_feature)\n",
    "versicolor_stat=calculate_feature_statistics(versicolor_features)\n",
    "print(f\"setosa statistics:\\n:{setosa_stat}\")\n",
    "print(f\"versicolor statistics:\\n{versicolor_stat}\")\n",
    "\n"
   ]
  },
  {
   "cell_type": "markdown",
   "metadata": {},
   "source": [
    "### 4) Gaussian probability density function (Gaussian PDF)\n",
    "\n",
    "Now we need to implement the gaussian probability density function to use for a single datapoint.\n",
    "\n",
    "**Note:** Look at the imports in the first cell at the top, it has some math numbers for easy use here. "
   ]
  },
  {
   "cell_type": "code",
   "execution_count": 14,
   "metadata": {},
   "outputs": [],
   "source": [
    "def gaussian_probability_density_function(x, means, stdevs):\n",
    "    \n",
    "    prob_density=np.array([])\n",
    "    \n",
    "    for i in  range(len(x)):\n",
    "         prob_density = np.append(prob_density, (1/(np.sqrt(2 * np.pi * stdevs[i] ** 2))) * np.exp(-((x[i] - means[i]) ** 2) / (2 * stdevs[i] ** 2)))\n",
    "\n",
    "\n",
    "    return prob_density"
   ]
  },
  {
   "cell_type": "markdown",
   "metadata": {},
   "source": [
    "We should test it to make sure it works. Train it, using the \"calculate_feature_statistics\" function, on one of the dataset classes. Then, take one datapoint from the same class and use naive bayes gaussian to make a prediction."
   ]
  },
  {
   "cell_type": "code",
   "execution_count": 15,
   "metadata": {},
   "outputs": [
    {
     "name": "stdout",
     "output_type": "stream",
     "text": [
      "probability density of setosa class:\n",
      "[0.15814465 0.63332908 0.90390878 3.271165  ]\n"
     ]
    }
   ],
   "source": [
    "# \n",
    "sample_length=len(iris_setosa)+len(iris_versicolor)\n",
    "setosa_stat_class= calculate_feature_statistics(feature_setosa)\n",
    "# print(setosa_stat)\n",
    "\n",
    "data_point=np.array(setosa_feature[0],dtype=float)\n",
    "prob_density_setosa=gaussian_probability_density_function(data_point,setosa_stat_class[0],setosa_stat_class[1])\n",
    "print(f\"probability density of setosa class:\\n{prob_density_setosa}\")\n",
    "\n"
   ]
  },
  {
   "cell_type": "markdown",
   "metadata": {},
   "source": [
    "As a test, take one datapoint from one of the other classes and see if the predicted probability changes."
   ]
  },
  {
   "cell_type": "code",
   "execution_count": 16,
   "metadata": {},
   "outputs": [
    {
     "name": "stdout",
     "output_type": "stream",
     "text": [
      "[7.0 3.2 4.7 1.4]\n",
      "probability density iris_versicolor:\n",
      ":[9.23962929e-08 8.94967649e-01 2.11025530e-77 6.27752476e-26]\n"
     ]
    }
   ],
   "source": [
    "# TODO: Take one datapoint from one of the other classes.\n",
    "other_class_datapoint = iris_versicolor[0]\n",
    "other_class_datapoint = other_class_datapoint[:-1]\n",
    "print(other_class_datapoint)\n",
    "# # TODO: Use naive bayes gaussian on this datapoint with the same feature statistics as the first class.\n",
    "prob_density_versicolor = gaussian_probability_density_function(other_class_datapoint,setosa_stat_class[0],setosa_stat_class[1])\n",
    "print(f\"probability density iris_versicolor:\\n:{prob_density_versicolor}\")\n",
    "\n"
   ]
  },
  {
   "cell_type": "markdown",
   "metadata": {},
   "source": [
    "Think a bit why the probability changes, what could affect the prediction?"
   ]
  },
  {
   "cell_type": "markdown",
   "metadata": {},
   "source": [
    "## Prepare Naive Bayes for binary classification"
   ]
  },
  {
   "cell_type": "markdown",
   "metadata": {},
   "source": [
    "### 6) Prepare the data for inference\n",
    "\n",
    "Before we train and test the naive bayes for multiple classes, we should get our data in order.\n",
    "\n",
    "Similar to how we did previously, we should now split two classes into a train and test set, you may choose which two classes freely."
   ]
  },
  {
   "cell_type": "code",
   "execution_count": 17,
   "metadata": {},
   "outputs": [],
   "source": [
    "# TODO: Split two classes into train and test sets.\n",
    "class_selected=np.vstack((iris_setosa,iris_virginica))\n",
    "\n",
    "train_class_selected,test_class_selected=train_test_split(class_selected,test_size=0.2,random_seed=42)\n",
    "\n",
    "\n",
    "# TODO: Sepearte the features and lables for both the train and test set.\n",
    "feature_train_class_selected,label_train_class=class_split(train_class_selected)\n",
    "feature_test_class_selected,label_test_class=class_split(test_class_selected)\n",
    "\n",
    "feature_class_selected,label_class_selected=class_split(class_selected)\n"
   ]
  },
  {
   "cell_type": "markdown",
   "metadata": {},
   "source": [
    "### 7) Class A vs Class B for binary classification\n",
    "\n",
    "**Note:** You might need to go back and forth a bit in the following cells during your implementation of your code.\n",
    "\n",
    "We have to get the probability from two sets of classes and compare the two probabilities in order to make a propper prediction.\n",
    "\n",
    "Here we will implement two functions to make this possible. We seperate these functions to make the implementation of the ROC-curve easier later on.\n",
    "\n",
    "**Function 1: naive_bayes_prediction** \n",
    "* A function that returns the probabilities for each class the model for a single datapoint.\n",
    "\n",
    "**Function 2: probabilities_to_prediction**\n",
    "* A function that takes in probabilities and returns a prediction."
   ]
  },
  {
   "cell_type": "markdown",
   "metadata": {},
   "source": []
  },
  {
   "cell_type": "code",
   "execution_count": 18,
   "metadata": {},
   "outputs": [],
   "source": [
    "def naive_bayes_prediction(feature_stats, data_points ,prior):\n",
    "   \n",
    "           \n",
    "            prob=[]\n",
    "            for data_point in data_points:\n",
    "                   \n",
    "                   pdfs_one = gaussian_probability_density_function(data_point, feature_stats[0][0], feature_stats[0][1])\n",
    "              #      print(data_point, feature_stats[0][0], feature_stats[0][1])\n",
    "                \n",
    "                   prob_one= np.prod(pdfs_one)*prior[0]\n",
    "                  \n",
    "                   pdfs_two= gaussian_probability_density_function(data_point, feature_stats[1][0], feature_stats[1][1])\n",
    "                                   \n",
    "                   prob_two= np.prod(pdfs_two)*prior[1]\n",
    "                   prob.append([prob_one,prob_two])\n",
    "                   \n",
    "    \n",
    "    \n",
    "            return prob"
   ]
  },
  {
   "cell_type": "code",
   "execution_count": 19,
   "metadata": {},
   "outputs": [],
   "source": [
    "def probabilities_to_prediction(probabilities):\n",
    "    \n",
    "    class_prediction=[]\n",
    "    for row in probabilities:\n",
    "        val1,val2=row\n",
    "        print(val1,val2)\n",
    "        if val1>val2:\n",
    "            class_prediction.append(0)\n",
    "        else:\n",
    "            class_prediction.append(1)    \n",
    "            \n",
    "    return class_prediction        "
   ]
  },
  {
   "cell_type": "markdown",
   "metadata": {},
   "source": [
    "To test the function we need the feature metrics from the classes we choose. \n",
    "\n",
    "**Note:** Choose the correct train/test set and the correct feature/label split!"
   ]
  },
  {
   "cell_type": "code",
   "execution_count": 20,
   "metadata": {},
   "outputs": [],
   "source": [
    "setosa_train,setosa_test=train_test_split(iris_setosa,test_size=0.2,random_seed=42)\n",
    "setosa_x_train,setosa_y_train=class_split(setosa_train)\n",
    "setosa_x_test,setosa_y_test=class_split(setosa_test)\n",
    "setosa_statics=calculate_feature_statistics(setosa_x_train)\n",
    "# print(setosa_statics)\n",
    "\n",
    "versicolor_train,versicolor_test=train_test_split(iris_versicolor,test_size=0.2,random_seed=42)\n",
    "versicolor_x_train,versicolor_y_train=class_split(versicolor_train)\n",
    "versicolor_x_test,versicolor_y_test=class_split(versicolor_test)\n",
    "versicolor_statics=calculate_feature_statistics(versicolor_x_train)\n",
    "# print(versicolor_statics)\n"
   ]
  },
  {
   "cell_type": "markdown",
   "metadata": {},
   "source": [
    "Now we should have implemented all the neccessary parts to train a naive bayes algorithm and do inference on it. Implement a small test workflow for two of your chosen classes."
   ]
  },
  {
   "cell_type": "code",
   "execution_count": 21,
   "metadata": {},
   "outputs": [
    {
     "name": "stdout",
     "output_type": "stream",
     "text": [
      "1.2044131398686764 7.939654341533391e-20\n",
      "0.04544318804452952 4.728216828466265e-24\n",
      "0.0854723545531412 1.489056598298743e-17\n",
      "3.000813796476459 1.5665019058894396e-19\n",
      "0.6774134609753881 1.7637528805769172e-17\n",
      "3.413512892663036 3.4279676289225176e-19\n",
      "0.3890671213317805 3.0928460930684416e-21\n",
      "0.015432797847446134 3.925488237535008e-23\n",
      "2.6411717816197395 1.613911082561896e-19\n",
      "0.22061472382273434 6.318698080828043e-21\n",
      "9.57309092339144e-44 0.00010331056082673702\n",
      "1.064219313847902e-117 0.08419653594496831\n",
      "4.885586560251549e-100 0.04243005653450577\n",
      "1.52871970600733e-71 0.5298682940068802\n",
      "3.391719234642627e-125 0.0049110783112008925\n",
      "1.897738683655053e-36 0.0004891519985415577\n",
      "5.238873409908289e-65 0.3282973610757914\n",
      "3.8411662222678273e-54 0.14285515470853402\n",
      "6.523703155711189e-97 0.3694126726473919\n",
      "6.765152347770911e-71 0.36595864343895845\n",
      "[0, 0, 0, 0, 0, 0, 0, 0, 0, 0, 1, 1, 1, 1, 1, 1, 1, 1, 1, 1]\n"
     ]
    }
   ],
   "source": [
    "x_test = np.vstack((setosa_x_test,versicolor_x_test))\n",
    "\n",
    "y_test = np.hstack((setosa_y_test,versicolor_y_test))\n",
    "\n",
    "prior=[]\n",
    "prior_setosa=len(iris_setosa)/len(data)\n",
    "prior_versicolor=len(iris_versicolor)/len(data)\n",
    "prior.append(prior_setosa)\n",
    "prior.append(prior_versicolor)\n",
    "\n",
    "\n",
    "stat_train=[]\n",
    "stat_train.append(setosa_stat)\n",
    "stat_train.append(versicolor_statics)\n",
    "\n",
    "\n",
    "probabilities=naive_bayes_prediction(stat_train,x_test,prior)\n",
    "\n",
    "\n",
    "predicted_array=probabilities_to_prediction(probabilities)\n",
    "print(predicted_array)\n",
    "\n",
    "    \n"
   ]
  },
  {
   "cell_type": "markdown",
   "metadata": {},
   "source": [
    "## ROC-curve\n",
    "\n",
    "A ROC curve, or *Receiver Operating Characteristic curve*, is a graphical plot that illustrates the performance of a binary classifier such as our Naive Bayes model.\n",
    "\n",
    "More info can be found in the course material and here: [https://en.wikipedia.org/wiki/Receiver_operating_characteristic](https://en.wikipedia.org/wiki/Receiver_operating_characteristic)\n",
    "\n",
    "Another good illustration by Google can be found here: [https://developers.google.com/machine-learning/crash-course/classification/roc-and-auc](https://developers.google.com/machine-learning/crash-course/classification/roc-and-auc)\n",
    "\n",
    "Now that we have a prediction model, we would want to try it out and test it using a ROC-curve."
   ]
  },
  {
   "cell_type": "markdown",
   "metadata": {},
   "source": [
    "### 8) True Positive Rate (TPR) and False Positive Rate (FPR)\n",
    "\n",
    "From our prediction function we get probabilities, and for prediction purposes we have just predicted the one with the highest probability.\n",
    "\n",
    "To plot a ROC-curve, we need the TPR and FPR for the binary classification. We will implement this here.\n",
    "\n",
    "**Note 1:** The threshold is is a value that goes from 0 to 1. \n",
    "\n",
    "**Note 2:** One of the two classes will be seen as \"the positive class\" (prediction over the threshold) and the other as \"the negative class\" (prediction under the threshold).\n",
    "\n",
    "**Note 3:** The threshold stepsize will decide the size of the returned TPR/FPR list. A value of 0.1 will give 10 elements (0 to 1 in increments of 0.1)"
   ]
  },
  {
   "cell_type": "code",
   "execution_count": 22,
   "metadata": {},
   "outputs": [
    {
     "name": "stdout",
     "output_type": "stream",
     "text": [
      "Python list: [0.0, 0.1, 0.2, 0.3, 0.4, 0.5, 0.6, 0.7, 0.8, 0.9]\n",
      "Numpy linspace: [0.  0.1 0.2 0.3 0.4 0.5 0.6 0.7 0.8 0.9 1. ]\n",
      "Numpy linspace (no endpoint): [0.  0.1 0.2 0.3 0.4 0.5 0.6 0.7 0.8 0.9]\n"
     ]
    }
   ],
   "source": [
    "# Stepsize demonstration\n",
    "print(\"Python list:\", [x/10 for x in range(0,10,1)])\n",
    "\n",
    "# Stepsize demonstration with numpy:\n",
    "print(\"Numpy linspace:\", np.linspace(0,1,11))\n",
    "print(\"Numpy linspace (no endpoint):\", np.linspace(0,1,10,endpoint=False))"
   ]
  },
  {
   "cell_type": "code",
   "execution_count": 23,
   "metadata": {},
   "outputs": [],
   "source": [
    "# def TPR_and_FPR(prediction_probabilities, label_test_class, threshold_stepsize=0.1):\n",
    "    \n",
    "#     thresholds = np.linspace(0, 1, int(1 / threshold_stepsize) + 1)\n",
    "\n",
    "    \n",
    "#     TPR = [0.0]\n",
    "#     FPR = [0.0]\n",
    "\n",
    "#     unique_classes = np.unique(label_test_class)\n",
    "#     print(unique_classes)\n",
    "#     if len(unique_classes) != 2:\n",
    "#        raise ValueError(\"The labels must be binary (two unique classes).\")\n",
    "#     positive_class = unique_classes[1]  # Assume the second class is positive\n",
    "#     true_binary_labels = np.array([1 if label == positive_class else 0 for label in label_test_class])\n",
    "\n",
    "   \n",
    "#     for threshold in thresholds:\n",
    "        \n",
    "#         predicted_positive = (np.array(prediction_probabilities) >= threshold).astype(int)\n",
    "\n",
    "        \n",
    "#         TP = np.sum((predicted_positive == 1) & (true_binary_labels == 1))\n",
    "#         FP = np.sum((predicted_positive == 1) & (true_binary_labels == 0))\n",
    "#         FN = np.sum((predicted_positive == 0) & (true_binary_labels == 1))\n",
    "#         TN = np.sum((predicted_positive == 0) & (true_binary_labels == 0))\n",
    "\n",
    "        \n",
    "#         tpr = TP / (TP + FN) if (TP + FN) > 0 else 0\n",
    "#         fpr = FP / (FP + TN) if (FP + TN) > 0 else 0\n",
    "\n",
    "#         TPR.append(tpr)\n",
    "#         FPR.append(fpr)\n",
    "#     mean_TPR = np.mean(TPR)\n",
    "#     mean_FPR = np.mean(FPR)    \n",
    "#     return np.array(TPR), np.array(FPR)\n",
    "#     return mean_FPR,mean_TPR\n",
    "\n",
    "\n"
   ]
  },
  {
   "cell_type": "code",
   "execution_count": 24,
   "metadata": {},
   "outputs": [],
   "source": [
    "def TPR_and_FPR(prediction_probabilities, label_test_class, threshold_stepsize=0.1):\n",
    "    # Convert predictions and true_labels to numpy arrays for easier manipulation\n",
    "    thresholds = np.linspace(0, 1, int(1 / threshold_stepsize) + 1)\n",
    "    predictions = np.array(prediction_probabilities)\n",
    "    true_labels = np.array(label_test_class)\n",
    "    TPR=[0.0]\n",
    "    FPR=[0.0]\n",
    "    Accuracy = []\n",
    "    # Initialize counters\n",
    "    TP = FP = TN = FN = 0\n",
    "    \n",
    "    # Iterate through the predictions and true labels\n",
    "    for threshold in thresholds: \n",
    "     for i in range(len(predictions)):\n",
    "         if predictions[i] == 1 and true_labels[i] == 1:\n",
    "            TP += 1  # True Positive\n",
    "         elif predictions[i] == 1 and true_labels[i] == 0:\n",
    "            FP += 1  # False Positive\n",
    "         elif predictions[i] == 0 and true_labels[i] == 0:\n",
    "            TN += 1  # True Negative\n",
    "         elif predictions[i] == 0 and true_labels[i] == 1:\n",
    "            FN += 1  # False Negative\n",
    "    \n",
    "    # Calculate TPR and FPR\n",
    "     tpr = TP / (TP + FN) if (TP + FN) != 0 else 0  # Avoid division by zero\n",
    "     fpr = FP / (FP + TN) if (FP + TN) != 0 else 0  # Avoid division by zero\n",
    "     accuracy = (TP + TN) / (TP + TN + FP + FN) if (TP + TN + FP + FN) != 0 else 0\n",
    "     TPR.append(tpr)\n",
    "     FPR.append(fpr)\n",
    "     Accuracy.append(accuracy)\n",
    "    auc=np.mean(Accuracy)\n",
    "    return np.array(TPR), np.array(FPR),auc"
   ]
  },
  {
   "cell_type": "markdown",
   "metadata": {},
   "source": []
  },
  {
   "cell_type": "code",
   "execution_count": 25,
   "metadata": {},
   "outputs": [],
   "source": [
    "def plot_ROC(TPR, FPR,auc):\n",
    "   \n",
    "    # **Ensure FPR is strictly increasing for correct AUC computation**\n",
    "    sorted_indices = np.argsort(FPR)  # Sort based on FPR values\n",
    "    FPR_sorted = np.array(FPR)[sorted_indices]\n",
    "    TPR_sorted = np.array(TPR)[sorted_indices]\n",
    "\n",
    "    # **Correct AUC Calculation**\n",
    "    auc_score = np.trapezoid(TPR_sorted, FPR_sorted)  # Correct sorted integration\n",
    "\n",
    "    # **Plot the ROC curve**\n",
    "    plt.figure(figsize=(8, 6))\n",
    "    plt.plot(FPR_sorted, TPR_sorted, label=f\"ROC Curve (AUC = {auc}\", marker='o', linestyle='-', linewidth=2, color='blue')\n",
    "\n",
    "    # **Plot the \"random classifier\" diagonal reference**\n",
    "    plt.plot([0, 1], [0, 1], linestyle='--', color='orange', label=\"Random Classifier\")\n",
    "\n",
    "    # **Customize labels and title**\n",
    "    plt.xlabel('False Positive Rate (FPR)')\n",
    "    plt.ylabel('True Positive Rate (TPR)')\n",
    "    plt.title(\"Receiver Operating Characteristic (ROC) Curve\")\n",
    "\n",
    "    plt.legend(loc=\"lower right\")\n",
    "    plt.grid()\n",
    "\n",
    "    # **Show the plot**\n",
    "    plt.show()"
   ]
  },
  {
   "cell_type": "markdown",
   "metadata": {},
   "source": [
    "How does the values change if you change the threshold stepsize? \n",
    "\n",
    "How does the values change if you change the classes you compare?"
   ]
  },
  {
   "cell_type": "markdown",
   "metadata": {},
   "source": [
    "### 9) Plot the TPR and FPR\n",
    "\n",
    "To better see what is going on, we can plot the TPR and FPR. We can also calculate the Area Under the ROC Curve (AUC or AUROC) at the same time."
   ]
  },
  {
   "cell_type": "code",
   "execution_count": 26,
   "metadata": {},
   "outputs": [
    {
     "name": "stdout",
     "output_type": "stream",
     "text": [
      "True Positive Rates (TPR): [0. 1. 1. 1. 1. 1. 1. 1. 1. 1. 1. 1.]\n",
      "False Positive Rates (FPR): [0. 0. 0. 0. 0. 0. 0. 0. 0. 0. 0. 0.]\n",
      "AUC: 1.0\n"
     ]
    },
    {
     "data": {
      "image/png": "[encoded data removed]",
      "text/plain": [
       "<Figure size 800x600 with 1 Axes>"
      ]
     },
     "metadata": {},
     "output_type": "display_data"
    }
   ],
   "source": [
    "\n",
    "TPR, FPR,auc= TPR_and_FPR(predicted_array, y_test, threshold_stepsize=0.1)\n",
    "print(\"True Positive Rates (TPR):\", TPR)\n",
    "print(\"False Positive Rates (FPR):\", FPR)\n",
    "print(\"AUC:\",auc)\n",
    "plot_ROC(TPR, FPR,auc)\n"
   ]
  },
  {
   "cell_type": "markdown",
   "metadata": {},
   "source": [
    "## Cross-validation\n",
    "\n",
    "The final task is to take everything you have implemented so far and apply it in a cross-validation loop.\n",
    "\n",
    "**Note 1:** To better reflect a real scenarios, you should shuffle the data before doing cross-validation.\n",
    "\n",
    "**Note 2:** When using cross-validation, the interesting thing is the mean performance (mean AUC, mean accuracy, mean ROC-curve).\n",
    "\n",
    "**Note 3:** This part is a bit more free in terms of implementation, but make sure to use some of the previously implemented functions."
   ]
  },
  {
   "cell_type": "markdown",
   "metadata": {},
   "source": [
    "### 10) Cross-validation loop"
   ]
  },
  {
   "cell_type": "code",
   "execution_count": 27,
   "metadata": {},
   "outputs": [],
   "source": [
    "# def cross_validation(data, target, folds=10, threshold_stepsize=0.1):\n",
    "    \n",
    "    \n",
    "#     indices = np.arange(len(data))\n",
    "#     np.random.shuffle(indices)\n",
    "#     fold_size = len(data) // folds\n",
    "#     auc_scores = []\n",
    "#     accuracies = []\n",
    "#     all_TPR = []\n",
    "#     all_FPR = []\n",
    "#     for i in range(folds):\n",
    "#         test_indices = indices[i * fold_size : (i + 1) * fold_size]\n",
    "#         train_indices = np.concatenate([indices[:i * fold_size], indices[(i + 1) * fold_size:]])\n",
    "    \n",
    "#         X_train, X_test = data[train_indices], data[test_indices]\n",
    "#         y_train, y_test = target[train_indices], target[test_indices]\n",
    "#         setosa_train, setosa_test = class_split(X_train[y_train==0]), class_split(X_test[y_test==0])\n",
    "#         versicolor_train, versicolor_test = class_split(X_train[y_train==1]), class_split(X_test[y_test==1])\n",
    "\n",
    "#         setosa_stat = calculate_feature_statistics(setosa_train[0])\n",
    "#         versicolor_stat = calculate_feature_statistics(versicolor_train[0])\n",
    "\n",
    "#         # Compute priors\n",
    "#         prior = [\n",
    "#             len(setosa_train[0]) / len(X_train),\n",
    "#             len(versicolor_train[0]) / len(X_train),\n",
    "#         ]\n",
    "       \n",
    "\n",
    "#         # Store statistics\n",
    "#         stat_train = [setosa_stat, versicolor_stat]\n",
    "\n",
    "#         # Get predictions\n",
    "#         probabilities = naive_bayes_prediction(stat_train, X_test, prior)\n",
    "#         predicted_labels = probabilities_to_prediction(probabilities)\n",
    "\n",
    "#         # Compute Accuracy\n",
    "#         accuracy = np.mean(predicted_labels == y_test)\n",
    "#         accuracies.append(accuracy)\n",
    "\n",
    "#         # Compute TPR & FPR\n",
    "#         prediction_probabilities = np.array([p[1] for p in probabilities])  # Probability of positive class\n",
    "#         TPR, FPR = TPR_and_FPR(prediction_probabilities, y_test, threshold_stepsize)\n",
    "#         all_TPR.append(TPR)\n",
    "#         all_FPR.append(FPR)\n",
    "\n",
    "#         # Compute AUC\n",
    "#         sorted_indices = np.argsort(FPR)\n",
    "#         FPR_sorted = np.array(FPR)[sorted_indices]\n",
    "#         TPR_sorted = np.array(TPR)[sorted_indices]\n",
    "#         auc_score = np.trapezoid(TPR_sorted, FPR_sorted)\n",
    "#         auc_scores.append(auc_score)\n",
    "\n",
    "#     # Calculate mean AUC and Accuracy\n",
    "#     mean_auc = np.mean(auc_scores) * 100\n",
    "#     mean_accuracy = np.mean(accuracies)\n",
    "\n",
    "#     print(f\"Mean AUC: {mean_auc:.2f}%\")\n",
    "#     print(f\"Mean Accuracy: {mean_accuracy:.2f}\")\n",
    "\n",
    "#     # Plot Average ROC Curve\n",
    "#     mean_TPR = np.mean(all_TPR, axis=0)\n",
    "#     mean_FPR = np.mean(all_FPR, axis=0)\n",
    "#     plot_ROC(mean_TPR, mean_FPR)\n"
   ]
  },
  {
   "cell_type": "code",
   "execution_count": 28,
   "metadata": {},
   "outputs": [],
   "source": [
    "def cross_validation(data, target, folds=10, threshold_stepsize=0.1):\n",
    "    folds_data= np.array_split(data, 10)  # Split data\n",
    "    label_folds = np.array_split(target, 10) \n",
    "    all_TPR = []  \n",
    "    all_FPR = []\n",
    "    all_auc=[]\n",
    "    for i in range(folds):\n",
    "        \n",
    "        X_test = folds_data[i]\n",
    "        y_test = label_folds[i]\n",
    "        # print(y_test)\n",
    "        X_train = np.concatenate([folds_data[j] for j in range(folds) if j != i])\n",
    "        y_train = np.concatenate([label_folds[j] for j in range(folds) if j != i])\n",
    "        \n",
    "        class_0_train = X_train[y_train == 0]  # Data for class 0\n",
    "        class_1_train = X_train[y_train == 1]  # Data for class 1\n",
    "\n",
    "        # Compute statistics\n",
    "        stat_0 = calculate_feature_statistics(class_0_train)\n",
    "        stat_1 = calculate_feature_statistics(class_1_train)\n",
    "        feature_stats = [(stat_0[0], stat_0[1]), (stat_1[0], stat_1[1])]\n",
    "        \n",
    "        prior = [\n",
    "            len(class_0_train) / len(X_train),  # Prior for class 0\n",
    "            len(class_1_train) / len(X_train)   # Prior for class 1\n",
    "        ]\n",
    "        \n",
    "        probabilities=naive_bayes_prediction(feature_stats,X_test,prior)\n",
    "\n",
    "\n",
    "        predicted_array=probabilities_to_prediction(probabilities)\n",
    "        # print(predicted_array)\n",
    "        TPR, FPR,auc = TPR_and_FPR(predicted_array,y_test,threshold_stepsize=0.1)\n",
    "        all_TPR.append(TPR)\n",
    "        all_FPR.append(FPR)\n",
    "        all_auc.append(auc)\n",
    "    mean_TPR = np.mean(all_TPR,axis=0)\n",
    "    mean_FPR = np.mean(all_FPR,axis=0)\n",
    "    mean_auc = np.mean(all_auc)\n",
    "    print(\"\\n\")\n",
    "    print(f\"Mean TPR across folds: {mean_TPR}\")\n",
    "    print(f\"Mean FPR across folds: {mean_FPR}\")\n",
    "    print(f\"AUC: {mean_auc}\")\n",
    "\n",
    "    return mean_TPR, mean_FPR,mean_auc \n",
    "\n",
    "      \n",
    "        "
   ]
  },
  {
   "cell_type": "markdown",
   "metadata": {},
   "source": [
    "### 11) 10-fold Cross-validation on all classes\n",
    "\n",
    "Test the \"cross_validation\" function on all the classes against eachother using 10 folds.\n",
    "\n",
    "* Iris-setosa vs Iris-versicolor\n",
    "* Iris-setosa vs Iris-virginica\n",
    "* Iris-versicolor vs Iris-virginica"
   ]
  },
  {
   "cell_type": "code",
   "execution_count": 29,
   "metadata": {},
   "outputs": [
    {
     "name": "stdout",
     "output_type": "stream",
     "text": [
      "iris_setosa vs iris_versicolor\n",
      "3.0840636499715473e-115 0.10830405227382602\n",
      "0.11212907864667622 2.854311859396581e-16\n",
      "8.023800295214295e-64 0.4137023282322869\n",
      "3.113300024876109e-50 0.029153837858728104\n",
      "7.362908453948902e-44 0.032763807991499194\n",
      "0.8260503146420586 5.743296941923318e-15\n",
      "2.4357927053880397e-101 0.44181590894323003\n",
      "1.0039439034592954e-56 0.18816632093344363\n",
      "1.8045830307766842e-91 0.6225362224801526\n",
      "4.709448461764556e-106 0.03586849400489669\n",
      "1.7430439143006051 5.532607826940867e-17\n",
      "0.6773842652161283 1.22633925722962e-19\n",
      "0.996712554778271 4.970956363195511e-19\n",
      "1.0287621654275418 5.572654906171353e-19\n",
      "2.5389772930340406 3.233477777160494e-18\n",
      "3.499011587803465e-35 0.001247556628114974\n",
      "0.8940310599754939 1.9193471037839275e-16\n",
      "3.0529610544180766e-67 0.7718946292238652\n",
      "1.4090937677248935e-108 0.039953281237408836\n",
      "1.0287621654275418 5.572654906171353e-19\n",
      "1.7800526598865187 7.497625429435261e-18\n",
      "2.269615721406256e-95 0.24104047627964137\n",
      "1.2082877105852388 2.4132148434426016e-15\n",
      "1.2640762711176696 8.654988370069037e-17\n",
      "0.004674029002530842 5.41313622602854e-19\n",
      "1.6968824471525825e-81 0.575443030880348\n",
      "1.5941811950283622 1.026772009304921e-19\n",
      "9.977553176067129e-62 0.17775687900025058\n",
      "3.2502971717699127e-32 0.0011522871303569744\n",
      "1.749388799756829 1.7451341474617343e-17\n",
      "0.035356314243838005 6.949959699934451e-21\n",
      "0.005423082860606102 8.2614525255661715e-19\n",
      "9.079057492597214e-101 0.24368400861013495\n",
      "3.0184592319447074 2.113057763005406e-16\n",
      "2.285131285389074 2.8658860827488714e-17\n",
      "1.0573840275948932e-102 0.11542112881036455\n",
      "7.2695123918835e-100 0.3023892008038335\n",
      "3.8725999874687673 1.2719757382030848e-16\n",
      "0.31856633420090436 4.269762611199437e-18\n",
      "3.704457760334085 8.630464093830596e-18\n",
      "0.2794875663456414 7.412124719703103e-20\n",
      "0.598320310103644 8.196188357722529e-18\n",
      "2.756339991700783e-71 0.4637307799501225\n",
      "5.070931037777879e-65 0.4996696974835562\n",
      "0.23112574283964166 2.77878173304757e-16\n",
      "1.7509376368241925 1.8119936081967096e-16\n",
      "5.765544455916848e-107 0.015708902308290057\n",
      "1.0789888460392693e-79 0.3954778048641139\n",
      "1.9346792409264742e-91 0.19583321967672798\n",
      "2.103511702618071e-104 0.20186845793989214\n",
      "1.5503982702402557e-97 0.15597776609729933\n",
      "1.0170067227754467e-76 0.7396888123301436\n",
      "2.100931313978199 1.860342959101746e-17\n",
      "1.6464655292984795e-109 0.5077638716714832\n",
      "4.0570889878932 4.682499508630541e-18\n",
      "4.4795842530170146e-46 0.00029920270575301895\n",
      "4.500009650616311e-62 0.16290834840364313\n",
      "3.7382469622554657 1.3542227031947438e-17\n",
      "2.568180717746793 1.425639013450048e-17\n",
      "0.030601199457262505 2.1380493064392837e-14\n",
      "1.1818075882877811e-116 0.05746288606522003\n",
      "2.417725843968195e-102 0.15426714368537559\n",
      "8.616157605625391e-43 0.001154076741944592\n",
      "0.08355203865205538 1.456741111934834e-15\n",
      "1.8889339464890023 5.361044726084892e-16\n",
      "0.07209369733646949 1.5042485979297832e-12\n",
      "2.004533646266427e-95 0.7601492691315754\n",
      "4.822422289923646 3.358184285677275e-17\n",
      "1.3418371936590954e-138 0.10565458199812162\n",
      "0.030596135391791825 3.896826993412948e-21\n",
      "1.8281004580570681 2.968220672865688e-17\n",
      "0.010344199194781606 1.2679612439855627e-20\n",
      "4.648751076281042e-87 0.4094865314306521\n",
      "3.0715200231764205e-98 0.38508841049462783\n",
      "0.17163565237137812 3.386273923039315e-20\n",
      "3.904049339319133e-78 0.6222333745168707\n",
      "4.341868631253526 5.411353729511082e-16\n",
      "7.691695968835861e-63 0.0319928441190485\n",
      "2.311346339250976e-113 0.06858344566735407\n",
      "4.267002082933866e-74 0.42990162202156706\n",
      "1.4616134869834457e-69 0.15797051979203816\n",
      "0.17288591013263843 2.284874254890424e-15\n",
      "4.0783893335239286e-76 0.740116657466481\n",
      "1.5840487788037594 1.9377421328044563e-17\n",
      "3.8779314003598 1.2667384859696848e-17\n",
      "1.181786599845537 1.3551016702372637e-18\n",
      "4.589813727609723e-55 0.09180394634358559\n",
      "5.842282549543211e-135 0.010177737557783218\n",
      "1.2287195919891338 3.3222500276029674e-18\n",
      "1.8691938647561783 4.027716479048992e-18\n",
      "5.05684548166726 1.005684937243639e-17\n",
      "0.003842135385125393 5.182739564084544e-13\n",
      "6.09040446446152e-135 0.004436238831879843\n",
      "3.467416415146658e-73 0.21246882687155638\n",
      "1.4623256245463707e-101 0.39381788868874\n",
      "7.751175063167067e-137 0.03827546231537083\n",
      "2.3759634042291857 1.0532216285563232e-17\n",
      "7.805933817154613e-125 0.01553550952359384\n",
      "2.6897639127644217e-72 0.40047434734799026\n",
      "0.37846610534793307 1.0594171616839636e-18\n",
      "\n",
      "\n",
      "Mean TPR across folds: [0. 1. 1. 1. 1. 1. 1. 1. 1. 1. 1. 1.]\n",
      "Mean FPR across folds: [0. 0. 0. 0. 0. 0. 0. 0. 0. 0. 0. 0.]\n",
      "AUC: 1.0\n"
     ]
    },
    {
     "data": {
      "image/png": "[encoded data removed]",
      "text/plain": [
       "<Figure size 800x600 with 1 Axes>"
      ]
     },
     "metadata": {},
     "output_type": "display_data"
    }
   ],
   "source": [
    "print(\"iris_setosa vs iris_versicolor\")\n",
    "setosa_versicolor = np.vstack((iris_setosa, iris_versicolor))\n",
    "np.random.shuffle(setosa_versicolor)\n",
    "# print(setosa_versicolor)\n",
    "\n",
    "x_data,target = class_split(setosa_versicolor)\n",
    "# print(target)\n",
    "\n",
    "TPR,FPR,auc=cross_validation(x_data,target,folds=10,threshold_stepsize=0.1)\n",
    "\n",
    "plot_ROC(TPR, FPR,auc)\n",
    "\n",
    "\n"
   ]
  },
  {
   "cell_type": "code",
   "execution_count": 30,
   "metadata": {},
   "outputs": [
    {
     "name": "stdout",
     "output_type": "stream",
     "text": [
      "iris_setosa vs iris_versicolor\n",
      "[1 0 1 1 0 0 0 1 0 0 0 0 0 1 1 1 0 0 1 0 1 0 0 1 0 0 1 1 0 0 0 1 0 1 1 0 1\n",
      " 0 1 0 1 0 1 1 0 1 0 1 1 1 0 0 0 1 1 0 1 0 1 1 1 1 1 1 0 1 1 0 1 0 1 1 0 1\n",
      " 0 0 1 1 1 0 0 1 1 0 1 1 0 0 1 0 1 1 1 0 0 0 0 0 0 0]\n",
      "7.582419695330901e-190 0.19380217548177525\n",
      "1.9470037093616561 8.367707563570727e-25\n",
      "1.6883751462699323e-185 0.06971434204219897\n",
      "3.76833634598693e-154 0.03240904173365269\n",
      "0.010212084546062499 3.571664716855287e-29\n",
      "4.357471386871469 1.447002369764094e-24\n",
      "0.9437644106253614 7.172914163306842e-23\n",
      "6.558521122390815e-236 0.047197984650853446\n",
      "1.1512336915475254 1.4686002752814658e-25\n",
      "1.7697828357955527 5.003280722630897e-24\n",
      "4.530996499927588 6.685109774557822e-26\n",
      "1.1136431184852673 5.242372710205793e-24\n",
      "1.4562243316739552 2.746813050959707e-26\n",
      "1.0419333024495398e-224 0.24197262462440022\n",
      "1.8788212228036784e-151 0.04865670347663059\n",
      "2.281e-320 0.0007619925749607081\n",
      "3.974695493799399 4.370746301510475e-25\n",
      "0.00539194860348289 2.44361816596068e-26\n",
      "4.907264585633329e-153 0.0648438076081415\n",
      "0.13637966231636545 2.863993550236966e-23\n",
      "2.467105631399196e-153 0.24162283590140385\n",
      "1.9615368237576938 6.1118036794587915e-24\n",
      "3.2934380696264105 4.0902676481865974e-25\n",
      "1.2548469582783742e-117 0.06427384605926154\n",
      "0.11283538942657995 1.3422302858614684e-26\n",
      "1.5254394606546622 2.2703487811867883e-24\n",
      "6.511807526031033e-137 0.07521642773353752\n",
      "2.219911541224409e-173 0.36830946668526937\n",
      "1.3973774383414892 3.4061506997882365e-24\n",
      "3.8886512924662133 6.0538235434505745e-24\n",
      "1.6214620456687514 3.5866592160087616e-25\n",
      "3.134398292057395e-161 0.32888205145366484\n",
      "1.241003046599276 9.091183031532537e-26\n",
      "9.127529650140937e-127 0.03010311156771238\n",
      "1.1718367966213112e-220 0.05534020462816947\n",
      "1.7527574290471488 7.812441810665197e-24\n",
      "7.842076095367008e-212 0.06089185872025455\n",
      "0.13285729262825746 1.0662745855928713e-22\n",
      "1.0343092215987961e-199 0.092719641023019\n",
      "0.28566490266741185 7.240036334237221e-28\n",
      "1.6914444206380801e-258 0.0012635339801153986\n",
      "1.954440569714847 2.4423286350772682e-27\n",
      "9.027451133687665e-142 0.16916591548493148\n",
      "6.838854810768129e-247 3.20839861604873e-05\n",
      "1.9001064225260873 1.1488485097404508e-25\n",
      "4.591251509778936e-166 0.3880089820902295\n",
      "0.26183675137215584 4.0542210878012515e-27\n",
      "8.862903338671707e-281 1.524575452944194e-05\n",
      "8.117002039563481e-211 0.3451384565744514\n",
      "6.554698094145045e-267 0.0029860466798909534\n",
      "2.059163553003775 5.446890166561608e-26\n",
      "0.3151788754060693 1.0063742069554717e-27\n",
      "2.7238944552912465 2.4505930995663325e-25\n",
      "5.46947577181265e-146 0.008671888825763417\n",
      "6.904986609445897e-257 0.018734064434655365\n",
      "2.45267890462124 9.807479156012854e-26\n",
      "1.8562687726805954e-142 0.07744067301387056\n",
      "2.6435782939624755 7.488316723373703e-26\n",
      "6.341437141254757e-176 0.04192509216118773\n",
      "1.479847291534497e-150 0.2413474185925157\n",
      "1.6395500101388544e-238 0.12349670333719986\n",
      "1.3415068392452057e-179 0.24354996991264347\n",
      "7.929760181678092e-192 0.12254495885134238\n",
      "2.512329878453811e-204 0.06836701285201026\n",
      "0.08223772325152227 1.852925816798735e-19\n",
      "3.0581770264857298e-226 0.08709399369062273\n",
      "4.6444487719467135e-260 0.02713211223972091\n",
      "1.1726517772146374 1.6979548315532404e-24\n",
      "5.045913758019941e-141 0.09348771301813337\n",
      "0.39094815194710714 3.794631829349837e-25\n",
      "1.4122016043232065e-131 0.09235830438498643\n",
      "3.115191570549208e-122 0.0008282753286633861\n",
      "1.6776314943811739 2.9452095240134104e-26\n",
      "1.8797497188385743e-127 0.06755293346954724\n",
      "1.2547330143088773 3.7971665445575474e-22\n",
      "4.070122047639762 1.9042537734344557e-25\n",
      "5.694449414992913e-190 0.31061259946444064\n",
      "6.117266570624911e-197 0.23383869533277693\n",
      "1.0525143857258135e-213 0.150571904291374\n",
      "1.905749895174347 1.6692762190333162e-24\n",
      "0.001075494478607707 2.3056212514753468e-20\n",
      "1.7673637099121441e-249 0.27212512346395057\n",
      "2.975808473906941e-228 0.32726292619775205\n",
      "0.07331533803164457 4.901491126040735e-22\n",
      "9.256964457713779e-136 0.00016904248771738856\n",
      "4.694042046434005e-201 0.20876198426536774\n",
      "0.012769377868464495 4.499387347697774e-21\n",
      "0.007067149076239122 2.3862563575112137e-26\n",
      "1.81636384352953e-239 0.16804151375400644\n",
      "5.267088205985493 2.9799377902067563e-24\n",
      "2.454157165642826e-281 0.02848224229933616\n",
      "1.4782418148141648e-216 0.08938383431154243\n",
      "2.0658110022566594e-242 0.16557198237248102\n",
      "1.0212928077590453 2.7547334490482605e-21\n",
      "0.8398988230671356 1.4857181611871662e-25\n",
      "0.7358998303372658 2.182481003229972e-25\n",
      "3.521621993468728 3.7913825002287065e-24\n",
      "0.37795989373377187 5.093783278114043e-26\n",
      "0.01534536635933947 1.810682788686122e-26\n",
      "0.014714614002590764 3.9930967746695664e-28\n",
      "\n",
      "\n",
      "Mean TPR across folds: [0. 1. 1. 1. 1. 1. 1. 1. 1. 1. 1. 1.]\n",
      "Mean FPR across folds: [0. 0. 0. 0. 0. 0. 0. 0. 0. 0. 0. 0.]\n",
      "AUC: 1.0\n"
     ]
    },
    {
     "data": {
      "image/png": "[encoded data removed]",
      "text/plain": [
       "<Figure size 800x600 with 1 Axes>"
      ]
     },
     "metadata": {},
     "output_type": "display_data"
    }
   ],
   "source": [
    "print(\"iris_setosa vs iris_versicolor\")\n",
    "setosa_verginica = np.vstack((iris_setosa, iris_virginica))\n",
    "np.random.shuffle(setosa_verginica)\n",
    "# print(setosa_versicolor)\n",
    "\n",
    "x_data,target = class_split(setosa_verginica)\n",
    "target[target == 2] = 1\n",
    "print(target)\n",
    "\n",
    "TPR,FPR,auc=cross_validation(x_data,target,folds=10,threshold_stepsize=0.1)\n",
    "\n",
    "plot_ROC(TPR, FPR,auc)\n"
   ]
  },
  {
   "cell_type": "code",
   "execution_count": 31,
   "metadata": {},
   "outputs": [
    {
     "name": "stdout",
     "output_type": "stream",
     "text": [
      "iris_setosa vs iris_versicolor\n",
      "[1 0 0 0 1 1 0 1 0 0 1 1 1 1 1 0 1 0 1 0 1 0 1 1 1 1 0 1 0 0 1 1 1 0 1 0 1\n",
      " 1 1 0 1 0 1 1 0 1 1 0 1 1 0 0 1 0 1 1 0 1 0 1 1 1 0 1 0 0 0 0 1 1 1 0 0 0\n",
      " 1 0 0 0 0 1 0 0 1 0 1 0 0 0 0 0 0 1 1 1 0 0 1 0 0 0]\n",
      "0.0001233617745191672 0.22401672261091357\n",
      "0.5136487336762297 0.006453050468690922\n",
      "0.17997344111871022 2.48241398916453e-05\n",
      "0.027461074962939383 2.1761888809717387e-07\n",
      "0.0007948785883001526 0.224852851470016\n",
      "1.1355812423976872e-11 0.048297765279747204\n",
      "0.6944908675355271 0.00020926552476768702\n",
      "6.836137699939757e-05 0.06462242976174921\n",
      "0.2824234821786749 0.003049201122263105\n",
      "0.0009947109824812205 4.887264118647917e-10\n",
      "1.3087284856821166e-07 0.1522834790724302\n",
      "0.01690647490685933 0.08363046913317716\n",
      "4.263714129773992e-06 0.27437661672359087\n",
      "3.768500632261738e-05 0.07666312457656374\n",
      "0.02680295022498901 0.062225398767118245\n",
      "0.0010466624183709957 7.063554751345097e-10\n",
      "2.396910875621825e-06 0.2805317300696284\n",
      "0.7198588735763835 0.0005533416203796096\n",
      "0.002651985166313958 0.0653359284522382\n",
      "0.4895007932559351 1.732087146700261e-05\n",
      "0.0016774896746384156 0.08485642364083884\n",
      "0.7049222564784239 9.918364013270882e-05\n",
      "1.113334975809892e-06 0.3640262307938675\n",
      "0.009038270076270739 0.007879269688483424\n",
      "4.85748984979365e-07 0.08986982130346877\n",
      "4.525062316342545e-08 0.05108490246926407\n",
      "0.22069845736494065 0.010356470182520545\n",
      "3.4730740714728656e-10 0.1506324140486838\n",
      "0.24127684535657515 6.1521549371373875e-06\n",
      "0.007881981763188335 0.10658276755016764\n",
      "1.7783843109140593e-07 0.23857807310622306\n",
      "1.014778663285233e-08 0.06651461000920812\n",
      "5.406420650003392e-13 0.024699108675597516\n",
      "0.05175020569195935 0.04573762909073136\n",
      "7.278716546967077e-13 0.016388944144869782\n",
      "0.09202433885126947 0.011373219947421877\n",
      "2.5712583430370617e-10 0.10926196252002508\n",
      "7.997754670999535e-05 0.30422974549386667\n",
      "0.0003372971659397034 0.2743797132503554\n",
      "0.04292000358393542 1.2302721001535446e-07\n",
      "0.0005624037691589621 0.24463234860231195\n",
      "0.7433006085052489 0.00018909131470737754\n",
      "7.21553138986185e-08 0.06817966479251793\n",
      "3.931718249589093e-08 0.19390795946363792\n",
      "0.34143392944513995 0.003742935438777079\n",
      "0.015720184572696146 0.09542834949245906\n",
      "4.121737812371542e-10 0.06116579375992672\n",
      "0.0011653513324655159 9.485803536877804e-10\n",
      "4.585772480575689e-12 0.005907298267183617\n",
      "2.39909604841296e-07 0.201109457154684\n",
      "0.006066938393510023 0.060321684431113146\n",
      "0.42563495309354815 0.007979012354688744\n",
      "3.3320893082948606e-08 0.34284079607077844\n",
      "0.16519098353641157 3.8810799953915515e-06\n",
      "0.027413017946160717 0.0009528011834317673\n",
      "3.8215696405371203e-16 9.140504133061067e-05\n",
      "0.39761612312632677 5.3337180121231496e-05\n",
      "1.7792529797912397e-12 0.026587405206149755\n",
      "0.1925212331607615 0.0021360347750439047\n",
      "8.385700724238488e-10 0.16556988069159395\n",
      "0.09828783375849955 0.026625994422554002\n",
      "5.591113862128853e-08 0.033702437878553954\n",
      "0.43888407076193603 3.371468607030945e-05\n",
      "0.0004641040358785201 0.02046712596701101\n",
      "0.17849356235314232 1.287463379935233e-06\n",
      "0.4892310704275009 0.000494349435851499\n",
      "0.19220856822160107 7.325139477789717e-05\n",
      "0.03008405020045793 0.0037412296948474044\n",
      "0.0008072732380713572 0.03317750878799818\n",
      "0.0075753262906575695 0.08651223413253882\n",
      "0.00044093292569364175 0.28461223789663037\n",
      "0.38427312313277356 0.0008680204080822468\n",
      "0.18868666376856558 1.0206066447590667e-06\n",
      "0.015606097834849628 0.029179941440835338\n",
      "0.0015351156576650755 0.06653127428770193\n",
      "0.07007912660797772 0.0003725750044957715\n",
      "0.2086473745248226 0.00270354281880578\n",
      "0.03757886385017179 3.5017033010822e-08\n",
      "0.055010438884208535 0.019067708259242706\n",
      "3.6799417621200005e-16 0.0008515784449751545\n",
      "0.33774006543483454 0.0020548615344291054\n",
      "0.5556618269854775 0.000814810531174045\n",
      "9.871578110585083e-08 0.20437117220585602\n",
      "0.08297177513436549 0.008560447378737146\n",
      "6.65007674920951e-15 0.00389758025753355\n",
      "0.0988308408852739 0.003318671233174282\n",
      "0.022452812664976472 0.02168539412025623\n",
      "0.33036089977003 0.0056325683646392104\n",
      "0.12094861806872467 4.0088857467670235e-07\n",
      "0.09979241831944967 0.01129696694761735\n",
      "0.7023309667514753 6.01050310243159e-05\n",
      "0.02634656981480924 0.06700918804864384\n",
      "0.00998684395250019 9.670062599316408e-05\n",
      "1.9033252051098945e-07 0.16898714250813596\n",
      "0.0002660195221898374 1.473360210933694e-11\n",
      "0.02281912407950397 0.004996491168202623\n",
      "2.0040508137572243e-13 0.00023197791990802916\n",
      "0.47136798101040756 5.136620902237581e-05\n",
      "0.3028335152223811 6.4390209818368045e-06\n",
      "0.46134229366196833 6.6915214801644915e-06\n",
      "\n",
      "\n",
      "Mean TPR across folds: [0.         0.91833333 0.91833333 0.91833333 0.91833333 0.91833333\n",
      " 0.91833333 0.91833333 0.91833333 0.91833333 0.91833333 0.91833333]\n",
      "Mean FPR across folds: [0.         0.05928571 0.05928571 0.05928571 0.05928571 0.05928571\n",
      " 0.05928571 0.05928571 0.05928571 0.05928571 0.05928571 0.05928571]\n",
      "AUC: 0.93\n"
     ]
    },
    {
     "data": {
      "image/png": "[encoded data removed]",
      "text/plain": [
       "<Figure size 800x600 with 1 Axes>"
      ]
     },
     "metadata": {},
     "output_type": "display_data"
    }
   ],
   "source": [
    "print(\"iris_setosa vs iris_versicolor\")\n",
    "versicolor_verginica = np.vstack((iris_versicolor, iris_virginica))\n",
    "np.random.shuffle(versicolor_verginica)\n",
    "# print(setosa_versicolor)\n",
    "\n",
    "x_data,target = class_split(versicolor_verginica)\n",
    "target[target == 1] = 0\n",
    "target[target == 2] = 1\n",
    "\n",
    "print(target)\n",
    "\n",
    "TPR,FPR,auc=cross_validation(x_data,target,folds=10,threshold_stepsize=0.1)\n",
    "\n",
    "plot_ROC(TPR, FPR,auc)"
   ]
  },
  {
   "cell_type": "markdown",
   "metadata": {},
   "source": [
    "# Questions for examination:\n",
    "\n",
    "In addition to completing the assignment with all its tasks, you should also prepare to answer the following questions:\n",
    "\n",
    "1) Why is it called \"naive bayes\"?\n",
    "\n",
    "2) What are some downsides of the naive bayes learning algorithm?\n",
    "\n",
    "3) When using ROC-curves, what is the theoretical best and worst result you can get?\n",
    "\n",
    "4) When using ROC-curves, in this assignment for example, is a higher threshold-stepsize always better?  \n",
    "\n",
    "5) When using cross-validation and ROC-curves, why is it important to take the correct mean values? What could go wrong?\n"
   ]
  },
  {
   "cell_type": "markdown",
   "metadata": {},
   "source": [
    "# Finished!\n",
    "\n",
    "Was part of the setup incorrect? Did you spot any inconsistencies in the assignment? Could something improve?\n",
    "\n",
    "If so, please write them and send via email and send it to:\n",
    "\n",
    "* marcus.gullstrand@ju.se\n",
    "\n",
    "Thank you!"
   ]
  }
 ],
 "metadata": {
  "kernelspec": {
   "display_name": "ML_course",
   "language": "python",
   "name": "python3"
  },
  "language_info": {
   "codemirror_mode": {
    "name": "ipython",
    "version": 3
   },
   "file_extension": ".py",
   "mimetype": "text/x-python",
   "name": "python",
   "nbconvert_exporter": "python",
   "pygments_lexer": "ipython3",
   "version": "3.13.2"
  }
 },
 "nbformat": 4,
 "nbformat_minor": 2
}
