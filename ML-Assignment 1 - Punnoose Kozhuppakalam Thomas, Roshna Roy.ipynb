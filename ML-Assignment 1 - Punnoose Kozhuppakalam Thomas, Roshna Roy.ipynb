{
 "cells": [
  {
   "cell_type": "markdown",
   "metadata": {},
   "source": [
    "# Machine Learning - Assignment 1\n",
    "\n",
    "## Naive Bayes Learning algorithm, Cross-validation, and ROC-Curves"
   ]
  },
  {
   "cell_type": "markdown",
   "metadata": {},
   "source": [
    "The aim of the assignment is to implement:\n",
    "\n",
    "* Naive Bayes learning algorithm for binary classification tasks\n",
    "* Visualization to plot a ROC-curve\n",
    "* A cross-validation test\n",
    "* Visualization of the average ROC-curve of a cross-validation test\n",
    "\n",
    "Follow the instructions and implement what is missing to complete the assignment. Some functions have been started to help you a little bit with the inputs or outputs of the function.\n",
    "\n",
    "**Note:** You might need to go back and forth during your implementation of the code. The structure is set up to make implementation easier, but how you return values from the different functions might vary, and you might find yourself going back and change something to make it easier later on."
   ]
  },
  {
   "cell_type": "markdown",
   "metadata": {},
   "source": [
    "## Assignment preparations"
   ]
  },
  {
   "cell_type": "markdown",
   "metadata": {},
   "source": [
    "We help you out with importing the libraries and reading the data.\n",
    "\n",
    "Look at the output to get an idea of how the data is structured."
   ]
  },
  {
   "cell_type": "markdown",
   "metadata": {},
   "source": [
    "# Add Necessary Imports"
   ]
  },
  {
   "cell_type": "code",
   "execution_count": 17,
   "metadata": {},
   "outputs": [],
   "source": [
    "import numpy as np\n",
    "import pandas as pd\n",
    "import matplotlib.pyplot as plt\n",
    "\n",
    "from math import e, pi, sqrt"
   ]
  },
  {
   "cell_type": "markdown",
   "metadata": {},
   "source": [
    "# Read Data from CSV"
   ]
  },
  {
   "cell_type": "code",
   "execution_count": 18,
   "metadata": {},
   "outputs": [],
   "source": [
    "data = pd.read_csv(\"./iris.csv\").to_numpy()"
   ]
  },
  {
   "cell_type": "markdown",
   "metadata": {},
   "source": [
    "# Load data to relevant variables"
   ]
  },
  {
   "cell_type": "code",
   "execution_count": 19,
   "metadata": {},
   "outputs": [
    {
     "name": "stdout",
     "output_type": "stream",
     "text": [
      "Mapped(['Iris-setosa' 'Iris-versicolor' 'Iris-virginica'])\n",
      "index([  0  50 100])\n",
      "unique_arr([0 0 0 0 0 0 0 0 0 0 0 0 0 0 0 0 0 0 0 0 0 0 0 0 0 0 0 0 0 0 0 0 0 0 0 0 0\n",
      " 0 0 0 0 0 0 0 0 0 0 0 0 0 1 1 1 1 1 1 1 1 1 1 1 1 1 1 1 1 1 1 1 1 1 1 1 1\n",
      " 1 1 1 1 1 1 1 1 1 1 1 1 1 1 1 1 1 1 1 1 1 1 1 1 1 1 2 2 2 2 2 2 2 2 2 2 2\n",
      " 2 2 2 2 2 2 2 2 2 2 2 2 2 2 2 2 2 2 2 2 2 2 2 2 2 2 2 2 2 2 2 2 2 2 2 2 2\n",
      " 2 2])\n",
      "Test : [ 50 100] : [[5.1 3.5 1.4 0.2 0]\n",
      " [4.9 3.0 1.4 0.2 0]\n",
      " [4.7 3.2 1.3 0.2 0]\n",
      " [4.6 3.1 1.5 0.2 0]\n",
      " [5.0 3.6 1.4 0.2 0]\n",
      " [5.4 3.9 1.7 0.4 0]\n",
      " [4.6 3.4 1.4 0.3 0]\n",
      " [5.0 3.4 1.5 0.2 0]\n",
      " [4.4 2.9 1.4 0.2 0]\n",
      " [4.9 3.1 1.5 0.1 0]\n",
      " [5.4 3.7 1.5 0.2 0]\n",
      " [4.8 3.4 1.6 0.2 0]\n",
      " [4.8 3.0 1.4 0.1 0]\n",
      " [4.3 3.0 1.1 0.1 0]\n",
      " [5.8 4.0 1.2 0.2 0]\n",
      " [5.7 4.4 1.5 0.4 0]\n",
      " [5.4 3.9 1.3 0.4 0]\n",
      " [5.1 3.5 1.4 0.3 0]\n",
      " [5.7 3.8 1.7 0.3 0]\n",
      " [5.1 3.8 1.5 0.3 0]\n",
      " [5.4 3.4 1.7 0.2 0]\n",
      " [5.1 3.7 1.5 0.4 0]\n",
      " [4.6 3.6 1.0 0.2 0]\n",
      " [5.1 3.3 1.7 0.5 0]\n",
      " [4.8 3.4 1.9 0.2 0]\n",
      " [5.0 3.0 1.6 0.2 0]\n",
      " [5.0 3.4 1.6 0.4 0]\n",
      " [5.2 3.5 1.5 0.2 0]\n",
      " [5.2 3.4 1.4 0.2 0]\n",
      " [4.7 3.2 1.6 0.2 0]\n",
      " [4.8 3.1 1.6 0.2 0]\n",
      " [5.4 3.4 1.5 0.4 0]\n",
      " [5.2 4.1 1.5 0.1 0]\n",
      " [5.5 4.2 1.4 0.2 0]\n",
      " [4.9 3.1 1.5 0.1 0]\n",
      " [5.0 3.2 1.2 0.2 0]\n",
      " [5.5 3.5 1.3 0.2 0]\n",
      " [4.9 3.1 1.5 0.1 0]\n",
      " [4.4 3.0 1.3 0.2 0]\n",
      " [5.1 3.4 1.5 0.2 0]\n",
      " [5.0 3.5 1.3 0.3 0]\n",
      " [4.5 2.3 1.3 0.3 0]\n",
      " [4.4 3.2 1.3 0.2 0]\n",
      " [5.0 3.5 1.6 0.6 0]\n",
      " [5.1 3.8 1.9 0.4 0]\n",
      " [4.8 3.0 1.4 0.3 0]\n",
      " [5.1 3.8 1.6 0.2 0]\n",
      " [4.6 3.2 1.4 0.2 0]\n",
      " [5.3 3.7 1.5 0.2 0]\n",
      " [5.0 3.3 1.4 0.2 0]\n",
      " [7.0 3.2 4.7 1.4 1]\n",
      " [6.4 3.2 4.5 1.5 1]\n",
      " [6.9 3.1 4.9 1.5 1]\n",
      " [5.5 2.3 4.0 1.3 1]\n",
      " [6.5 2.8 4.6 1.5 1]\n",
      " [5.7 2.8 4.5 1.3 1]\n",
      " [6.3 3.3 4.7 1.6 1]\n",
      " [4.9 2.4 3.3 1.0 1]\n",
      " [6.6 2.9 4.6 1.3 1]\n",
      " [5.2 2.7 3.9 1.4 1]\n",
      " [5.0 2.0 3.5 1.0 1]\n",
      " [5.9 3.0 4.2 1.5 1]\n",
      " [6.0 2.2 4.0 1.0 1]\n",
      " [6.1 2.9 4.7 1.4 1]\n",
      " [5.6 2.9 3.6 1.3 1]\n",
      " [6.7 3.1 4.4 1.4 1]\n",
      " [5.6 3.0 4.5 1.5 1]\n",
      " [5.8 2.7 4.1 1.0 1]\n",
      " [6.2 2.2 4.5 1.5 1]\n",
      " [5.6 2.5 3.9 1.1 1]\n",
      " [5.9 3.2 4.8 1.8 1]\n",
      " [6.1 2.8 4.0 1.3 1]\n",
      " [6.3 2.5 4.9 1.5 1]\n",
      " [6.1 2.8 4.7 1.2 1]\n",
      " [6.4 2.9 4.3 1.3 1]\n",
      " [6.6 3.0 4.4 1.4 1]\n",
      " [6.8 2.8 4.8 1.4 1]\n",
      " [6.7 3.0 5.0 1.7 1]\n",
      " [6.0 2.9 4.5 1.5 1]\n",
      " [5.7 2.6 3.5 1.0 1]\n",
      " [5.5 2.4 3.8 1.1 1]\n",
      " [5.5 2.4 3.7 1.0 1]\n",
      " [5.8 2.7 3.9 1.2 1]\n",
      " [6.0 2.7 5.1 1.6 1]\n",
      " [5.4 3.0 4.5 1.5 1]\n",
      " [6.0 3.4 4.5 1.6 1]\n",
      " [6.7 3.1 4.7 1.5 1]\n",
      " [6.3 2.3 4.4 1.3 1]\n",
      " [5.6 3.0 4.1 1.3 1]\n",
      " [5.5 2.5 4.0 1.3 1]\n",
      " [5.5 2.6 4.4 1.2 1]\n",
      " [6.1 3.0 4.6 1.4 1]\n",
      " [5.8 2.6 4.0 1.2 1]\n",
      " [5.0 2.3 3.3 1.0 1]\n",
      " [5.6 2.7 4.2 1.3 1]\n",
      " [5.7 3.0 4.2 1.2 1]\n",
      " [5.7 2.9 4.2 1.3 1]\n",
      " [6.2 2.9 4.3 1.3 1]\n",
      " [5.1 2.5 3.0 1.1 1]\n",
      " [5.7 2.8 4.1 1.3 1]\n",
      " [6.3 3.3 6.0 2.5 2]\n",
      " [5.8 2.7 5.1 1.9 2]\n",
      " [7.1 3.0 5.9 2.1 2]\n",
      " [6.3 2.9 5.6 1.8 2]\n",
      " [6.5 3.0 5.8 2.2 2]\n",
      " [7.6 3.0 6.6 2.1 2]\n",
      " [4.9 2.5 4.5 1.7 2]\n",
      " [7.3 2.9 6.3 1.8 2]\n",
      " [6.7 2.5 5.8 1.8 2]\n",
      " [7.2 3.6 6.1 2.5 2]\n",
      " [6.5 3.2 5.1 2.0 2]\n",
      " [6.4 2.7 5.3 1.9 2]\n",
      " [6.8 3.0 5.5 2.1 2]\n",
      " [5.7 2.5 5.0 2.0 2]\n",
      " [5.8 2.8 5.1 2.4 2]\n",
      " [6.4 3.2 5.3 2.3 2]\n",
      " [6.5 3.0 5.5 1.8 2]\n",
      " [7.7 3.8 6.7 2.2 2]\n",
      " [7.7 2.6 6.9 2.3 2]\n",
      " [6.0 2.2 5.0 1.5 2]\n",
      " [6.9 3.2 5.7 2.3 2]\n",
      " [5.6 2.8 4.9 2.0 2]\n",
      " [7.7 2.8 6.7 2.0 2]\n",
      " [6.3 2.7 4.9 1.8 2]\n",
      " [6.7 3.3 5.7 2.1 2]\n",
      " [7.2 3.2 6.0 1.8 2]\n",
      " [6.2 2.8 4.8 1.8 2]\n",
      " [6.1 3.0 4.9 1.8 2]\n",
      " [6.4 2.8 5.6 2.1 2]\n",
      " [7.2 3.0 5.8 1.6 2]\n",
      " [7.4 2.8 6.1 1.9 2]\n",
      " [7.9 3.8 6.4 2.0 2]\n",
      " [6.4 2.8 5.6 2.2 2]\n",
      " [6.3 2.8 5.1 1.5 2]\n",
      " [6.1 2.6 5.6 1.4 2]\n",
      " [7.7 3.0 6.1 2.3 2]\n",
      " [6.3 3.4 5.6 2.4 2]\n",
      " [6.4 3.1 5.5 1.8 2]\n",
      " [6.0 3.0 4.8 1.8 2]\n",
      " [6.9 3.1 5.4 2.1 2]\n",
      " [6.7 3.1 5.6 2.4 2]\n",
      " [6.9 3.1 5.1 2.3 2]\n",
      " [5.8 2.7 5.1 1.9 2]\n",
      " [6.8 3.2 5.9 2.3 2]\n",
      " [6.7 3.3 5.7 2.5 2]\n",
      " [6.7 3.0 5.2 2.3 2]\n",
      " [6.3 2.5 5.0 1.9 2]\n",
      " [6.5 3.0 5.2 2.0 2]\n",
      " [6.2 3.4 5.4 2.3 2]\n",
      " [5.9 3.0 5.1 1.8 2]]\n"
     ]
    }
   ],
   "source": [
    "mapped, index, unique_arr = np.unique(data[:, -1], return_index=True, return_inverse=True)\n",
    "print(f\"Mapped({mapped})\\nindex({index})\\nunique_arr({unique_arr})\")\n",
    "data[:, -1] = unique_arr\n",
    "\n",
    "filtered_data = data[data[:, -1] != 1]\n",
    "# print(\"Filtered Data : \", filtered_data)\n",
    "print(f\"Test : {index[1:]} : {data}\")\n",
    "iris_setosa, iris_versicolor, iris_virginica = np.split(data, index[1:])"
   ]
  },
  {
   "cell_type": "markdown",
   "metadata": {},
   "source": [
    "# Print trial values"
   ]
  },
  {
   "cell_type": "code",
   "execution_count": 20,
   "metadata": {},
   "outputs": [
    {
     "name": "stdout",
     "output_type": "stream",
     "text": [
      "Full data array (features and labels):\n",
      "[[5.1 3.5 1.4 0.2 0]\n",
      " [4.9 3.0 1.4 0.2 0]\n",
      " [4.7 3.2 1.3 0.2 0]]\n",
      "\n",
      "###############\n",
      "\n",
      "Train features (first 4 columns):\n",
      "[[5.1 3.5 1.4 0.2]\n",
      " [4.9 3.0 1.4 0.2]\n",
      " [4.7 3.2 1.3 0.2]]\n",
      "\n",
      "Labels (last column):\n",
      "[[0]\n",
      " [0]\n",
      " [0]]\n",
      "\n",
      "Names of labels:\n",
      "[[0, 'Iris-setosa'], [1, 'Iris-versicolor'], [2, 'Iris-virginica']]\n"
     ]
    }
   ],
   "source": [
    "print(f\"Full data array (features and labels):\\n{iris_setosa[:3]}\\n\")\n",
    "print(\"###############\\n\")\n",
    "print(f\"Train features (first 4 columns):\\n{iris_setosa[:3, :-1]}\\n\")\n",
    "print(f\"Labels (last column):\\n{iris_setosa[:3, -1:]}\\n\")\n",
    "print(f\"Names of labels:\\n{[[numb, name] for numb, name in enumerate(mapped)]}\")"
   ]
  },
  {
   "cell_type": "markdown",
   "metadata": {},
   "source": [
    "# Example print of the 3 first datapoints (similar as above):"
   ]
  },
  {
   "cell_type": "code",
   "execution_count": 21,
   "metadata": {},
   "outputs": [
    {
     "data": {
      "text/plain": [
       "array([[5.1, 3.5, 1.4, 0.2, 0],\n",
       "       [4.9, 3.0, 1.4, 0.2, 0],\n",
       "       [4.7, 3.2, 1.3, 0.2, 0]], dtype=object)"
      ]
     },
     "execution_count": 21,
     "metadata": {},
     "output_type": "execute_result"
    }
   ],
   "source": [
    "iris_setosa[:3]"
   ]
  },
  {
   "cell_type": "markdown",
   "metadata": {},
   "source": [
    "## Data handling functions\n",
    "\n",
    "As a start, we are going to implement some basic data handling functions to use in the future."
   ]
  },
  {
   "cell_type": "markdown",
   "metadata": {},
   "source": [
    "### 1) Split class into a train and test set\n",
    "\n",
    "First, we need to be able to split the class into a train and test set."
   ]
  },
  {
   "cell_type": "code",
   "execution_count": 22,
   "metadata": {},
   "outputs": [],
   "source": [
    "def train_test_split(class_data):\n",
    "    split_ratio=0.8\n",
    "\n",
    "    class_data = np.array(class_data)\n",
    "    \n",
    "    # Extract features and labels\n",
    "    features = class_data[:, :-1]\n",
    "    labels = class_data[:, -1]\n",
    "    \n",
    "    unique_classes = np.unique(labels)\n",
    "    \n",
    "    train_data = []\n",
    "    test_data = []\n",
    "    \n",
    "    for cls in unique_classes:\n",
    "        cls_indices = np.where(labels == cls)[0]\n",
    "        np.random.shuffle(cls_indices)\n",
    "        split_index = int(len(cls_indices) * split_ratio)\n",
    "        train_indices = cls_indices[:split_index]\n",
    "        test_indices = cls_indices[split_index:]\n",
    "        train_data.extend(class_data[train_indices])\n",
    "        test_data.extend(class_data[test_indices])\n",
    "    \n",
    "    train_data = np.array(train_data)\n",
    "    test_data = np.array(test_data)\n",
    "    \n",
    "    np.random.shuffle(train_data)\n",
    "    np.random.shuffle(test_data)\n",
    "    \n",
    "    return train_data, test_data"
   ]
  },
  {
   "cell_type": "code",
   "execution_count": 23,
   "metadata": {},
   "outputs": [
    {
     "name": "stdout",
     "output_type": "stream",
     "text": [
      "Train Data :  [[4.9 3.1 1.5 0.1 0]\n",
      " [5.4 3.4 1.5 0.4 0]\n",
      " [5.0 3.4 1.6 0.4 0]\n",
      " [4.4 2.9 1.4 0.2 0]\n",
      " [5.4 3.7 1.5 0.2 0]\n",
      " [7.2 3.0 5.8 1.6 2]\n",
      " [5.2 4.1 1.5 0.1 0]\n",
      " [6.1 2.6 5.6 1.4 2]\n",
      " [6.4 2.7 5.3 1.9 2]\n",
      " [5.3 3.7 1.5 0.2 0]\n",
      " [7.7 3.0 6.1 2.3 2]\n",
      " [6.7 3.3 5.7 2.1 2]\n",
      " [5.4 3.4 1.7 0.2 0]\n",
      " [4.6 3.4 1.4 0.3 0]\n",
      " [6.9 3.2 5.7 2.3 2]\n",
      " [5.8 2.7 5.1 1.9 2]\n",
      " [5.8 2.8 5.1 2.4 2]\n",
      " [5.0 3.3 1.4 0.2 0]\n",
      " [6.7 3.3 5.7 2.5 2]\n",
      " [5.7 2.5 5.0 2.0 2]\n",
      " [6.0 2.2 5.0 1.5 2]\n",
      " [6.7 3.1 5.6 2.4 2]\n",
      " [6.9 3.1 5.1 2.3 2]\n",
      " [5.5 3.5 1.3 0.2 0]\n",
      " [4.6 3.6 1.0 0.2 0]\n",
      " [5.0 3.4 1.5 0.2 0]\n",
      " [5.1 3.3 1.7 0.5 0]\n",
      " [6.9 3.1 5.4 2.1 2]\n",
      " [6.2 3.4 5.4 2.3 2]\n",
      " [4.4 3.2 1.3 0.2 0]\n",
      " [6.4 3.1 5.5 1.8 2]\n",
      " [5.1 3.8 1.9 0.4 0]\n",
      " [6.3 2.8 5.1 1.5 2]\n",
      " [6.8 3.0 5.5 2.1 2]\n",
      " [6.3 2.5 5.0 1.9 2]\n",
      " [6.8 3.2 5.9 2.3 2]\n",
      " [7.1 3.0 5.9 2.1 2]\n",
      " [4.8 3.4 1.6 0.2 0]\n",
      " [6.4 2.8 5.6 2.2 2]\n",
      " [7.6 3.0 6.6 2.1 2]\n",
      " [7.7 2.6 6.9 2.3 2]\n",
      " [5.5 4.2 1.4 0.2 0]\n",
      " [5.7 3.8 1.7 0.3 0]\n",
      " [4.8 3.0 1.4 0.1 0]\n",
      " [5.1 3.8 1.5 0.3 0]\n",
      " [5.1 3.7 1.5 0.4 0]\n",
      " [7.2 3.6 6.1 2.5 2]\n",
      " [6.3 2.7 4.9 1.8 2]\n",
      " [4.9 3.0 1.4 0.2 0]\n",
      " [4.4 3.0 1.3 0.2 0]\n",
      " [5.7 4.4 1.5 0.4 0]\n",
      " [6.3 3.3 6.0 2.5 2]\n",
      " [5.4 3.9 1.3 0.4 0]\n",
      " [4.3 3.0 1.1 0.1 0]\n",
      " [7.9 3.8 6.4 2.0 2]\n",
      " [7.3 2.9 6.3 1.8 2]\n",
      " [4.8 3.0 1.4 0.3 0]\n",
      " [7.7 3.8 6.7 2.2 2]\n",
      " [6.5 3.2 5.1 2.0 2]\n",
      " [5.1 3.4 1.5 0.2 0]\n",
      " [6.5 3.0 5.2 2.0 2]\n",
      " [5.1 3.5 1.4 0.2 0]\n",
      " [6.5 3.0 5.8 2.2 2]\n",
      " [4.9 3.1 1.5 0.1 0]\n",
      " [4.6 3.1 1.5 0.2 0]\n",
      " [5.0 3.6 1.4 0.2 0]\n",
      " [5.1 3.5 1.4 0.3 0]\n",
      " [5.0 3.5 1.6 0.6 0]\n",
      " [4.5 2.3 1.3 0.3 0]\n",
      " [4.8 3.4 1.9 0.2 0]\n",
      " [7.2 3.2 6.0 1.8 2]\n",
      " [5.8 2.7 5.1 1.9 2]\n",
      " [5.6 2.8 4.9 2.0 2]\n",
      " [4.9 3.1 1.5 0.1 0]\n",
      " [6.5 3.0 5.5 1.8 2]\n",
      " [4.9 2.5 4.5 1.7 2]\n",
      " [6.4 2.8 5.6 2.1 2]\n",
      " [6.0 3.0 4.8 1.8 2]\n",
      " [5.2 3.4 1.4 0.2 0]\n",
      " [5.0 3.5 1.3 0.3 0]]\n",
      "Test Data :  [[4.9 3.1 1.5 0.1 0]\n",
      " [5.4 3.4 1.5 0.4 0]\n",
      " [5.0 3.4 1.6 0.4 0]\n",
      " [4.4 2.9 1.4 0.2 0]\n",
      " [5.4 3.7 1.5 0.2 0]\n",
      " [7.2 3.0 5.8 1.6 2]\n",
      " [5.2 4.1 1.5 0.1 0]\n",
      " [6.1 2.6 5.6 1.4 2]\n",
      " [6.4 2.7 5.3 1.9 2]\n",
      " [5.3 3.7 1.5 0.2 0]\n",
      " [7.7 3.0 6.1 2.3 2]\n",
      " [6.7 3.3 5.7 2.1 2]\n",
      " [5.4 3.4 1.7 0.2 0]\n",
      " [4.6 3.4 1.4 0.3 0]\n",
      " [6.9 3.2 5.7 2.3 2]\n",
      " [5.8 2.7 5.1 1.9 2]\n",
      " [5.8 2.8 5.1 2.4 2]\n",
      " [5.0 3.3 1.4 0.2 0]\n",
      " [6.7 3.3 5.7 2.5 2]\n",
      " [5.7 2.5 5.0 2.0 2]\n",
      " [6.0 2.2 5.0 1.5 2]\n",
      " [6.7 3.1 5.6 2.4 2]\n",
      " [6.9 3.1 5.1 2.3 2]\n",
      " [5.5 3.5 1.3 0.2 0]\n",
      " [4.6 3.6 1.0 0.2 0]\n",
      " [5.0 3.4 1.5 0.2 0]\n",
      " [5.1 3.3 1.7 0.5 0]\n",
      " [6.9 3.1 5.4 2.1 2]\n",
      " [6.2 3.4 5.4 2.3 2]\n",
      " [4.4 3.2 1.3 0.2 0]\n",
      " [6.4 3.1 5.5 1.8 2]\n",
      " [5.1 3.8 1.9 0.4 0]\n",
      " [6.3 2.8 5.1 1.5 2]\n",
      " [6.8 3.0 5.5 2.1 2]\n",
      " [6.3 2.5 5.0 1.9 2]\n",
      " [6.8 3.2 5.9 2.3 2]\n",
      " [7.1 3.0 5.9 2.1 2]\n",
      " [4.8 3.4 1.6 0.2 0]\n",
      " [6.4 2.8 5.6 2.2 2]\n",
      " [7.6 3.0 6.6 2.1 2]\n",
      " [7.7 2.6 6.9 2.3 2]\n",
      " [5.5 4.2 1.4 0.2 0]\n",
      " [5.7 3.8 1.7 0.3 0]\n",
      " [4.8 3.0 1.4 0.1 0]\n",
      " [5.1 3.8 1.5 0.3 0]\n",
      " [5.1 3.7 1.5 0.4 0]\n",
      " [7.2 3.6 6.1 2.5 2]\n",
      " [6.3 2.7 4.9 1.8 2]\n",
      " [4.9 3.0 1.4 0.2 0]\n",
      " [4.4 3.0 1.3 0.2 0]\n",
      " [5.7 4.4 1.5 0.4 0]\n",
      " [6.3 3.3 6.0 2.5 2]\n",
      " [5.4 3.9 1.3 0.4 0]\n",
      " [4.3 3.0 1.1 0.1 0]\n",
      " [7.9 3.8 6.4 2.0 2]\n",
      " [7.3 2.9 6.3 1.8 2]\n",
      " [4.8 3.0 1.4 0.3 0]\n",
      " [7.7 3.8 6.7 2.2 2]\n",
      " [6.5 3.2 5.1 2.0 2]\n",
      " [5.1 3.4 1.5 0.2 0]\n",
      " [6.5 3.0 5.2 2.0 2]\n",
      " [5.1 3.5 1.4 0.2 0]\n",
      " [6.5 3.0 5.8 2.2 2]\n",
      " [4.9 3.1 1.5 0.1 0]\n",
      " [4.6 3.1 1.5 0.2 0]\n",
      " [5.0 3.6 1.4 0.2 0]\n",
      " [5.1 3.5 1.4 0.3 0]\n",
      " [5.0 3.5 1.6 0.6 0]\n",
      " [4.5 2.3 1.3 0.3 0]\n",
      " [4.8 3.4 1.9 0.2 0]\n",
      " [7.2 3.2 6.0 1.8 2]\n",
      " [5.8 2.7 5.1 1.9 2]\n",
      " [5.6 2.8 4.9 2.0 2]\n",
      " [4.9 3.1 1.5 0.1 0]\n",
      " [6.5 3.0 5.5 1.8 2]\n",
      " [4.9 2.5 4.5 1.7 2]\n",
      " [6.4 2.8 5.6 2.1 2]\n",
      " [6.0 3.0 4.8 1.8 2]\n",
      " [5.2 3.4 1.4 0.2 0]\n",
      " [5.0 3.5 1.3 0.3 0]]\n"
     ]
    }
   ],
   "source": [
    "# Test the train_test_split function\n",
    "train_data, test_data = train_test_split(filtered_data)\n",
    "\n",
    "# Print the output\n",
    "print(\"Train Data : \",train_data)\n",
    "print(\"Test Data : \",train_data)"
   ]
  },
  {
   "cell_type": "markdown",
   "metadata": {},
   "source": [
    "### 2) Split data into features and labels\n",
    "\n",
    "The data as shown above is not always the optimal shape. To help us keep track of things, we can split the data into its features and labels seperately.\n",
    "\n",
    "Each class is 4 features and 1 label in the same array: \n",
    "\n",
    "* **[feature 1, feature 2, feature 3, feature 4, label]**\n",
    "\n",
    "It would help us later to have the features and labels in seperate arrays in the form: \n",
    "\n",
    "* **[feature 1, feature 2, feature 3, feature 4]** and **[label]**\n",
    "\n",
    "Here you are going to implement this functionallity."
   ]
  },
  {
   "cell_type": "code",
   "execution_count": 24,
   "metadata": {},
   "outputs": [],
   "source": [
    "def class_split(data):\n",
    "    features = data[:, :-1].astype(float)\n",
    "    labels = data[:, -1].astype(int)\n",
    "    return features, labels"
   ]
  },
  {
   "cell_type": "markdown",
   "metadata": {},
   "source": [
    "We should first test the \"**class_split**\" function on one of the classes above (iris_setosa, etc...) to make sure it works properly."
   ]
  },
  {
   "cell_type": "code",
   "execution_count": 25,
   "metadata": {},
   "outputs": [
    {
     "name": "stdout",
     "output_type": "stream",
     "text": [
      "Train Data Features :  [[4.9 3.1 1.5 0.1]\n",
      " [5.4 3.4 1.5 0.4]\n",
      " [5.  3.4 1.6 0.4]\n",
      " [4.4 2.9 1.4 0.2]\n",
      " [5.4 3.7 1.5 0.2]\n",
      " [7.2 3.  5.8 1.6]\n",
      " [5.2 4.1 1.5 0.1]\n",
      " [6.1 2.6 5.6 1.4]\n",
      " [6.4 2.7 5.3 1.9]\n",
      " [5.3 3.7 1.5 0.2]\n",
      " [7.7 3.  6.1 2.3]\n",
      " [6.7 3.3 5.7 2.1]\n",
      " [5.4 3.4 1.7 0.2]\n",
      " [4.6 3.4 1.4 0.3]\n",
      " [6.9 3.2 5.7 2.3]\n",
      " [5.8 2.7 5.1 1.9]\n",
      " [5.8 2.8 5.1 2.4]\n",
      " [5.  3.3 1.4 0.2]\n",
      " [6.7 3.3 5.7 2.5]\n",
      " [5.7 2.5 5.  2. ]\n",
      " [6.  2.2 5.  1.5]\n",
      " [6.7 3.1 5.6 2.4]\n",
      " [6.9 3.1 5.1 2.3]\n",
      " [5.5 3.5 1.3 0.2]\n",
      " [4.6 3.6 1.  0.2]\n",
      " [5.  3.4 1.5 0.2]\n",
      " [5.1 3.3 1.7 0.5]\n",
      " [6.9 3.1 5.4 2.1]\n",
      " [6.2 3.4 5.4 2.3]\n",
      " [4.4 3.2 1.3 0.2]\n",
      " [6.4 3.1 5.5 1.8]\n",
      " [5.1 3.8 1.9 0.4]\n",
      " [6.3 2.8 5.1 1.5]\n",
      " [6.8 3.  5.5 2.1]\n",
      " [6.3 2.5 5.  1.9]\n",
      " [6.8 3.2 5.9 2.3]\n",
      " [7.1 3.  5.9 2.1]\n",
      " [4.8 3.4 1.6 0.2]\n",
      " [6.4 2.8 5.6 2.2]\n",
      " [7.6 3.  6.6 2.1]\n",
      " [7.7 2.6 6.9 2.3]\n",
      " [5.5 4.2 1.4 0.2]\n",
      " [5.7 3.8 1.7 0.3]\n",
      " [4.8 3.  1.4 0.1]\n",
      " [5.1 3.8 1.5 0.3]\n",
      " [5.1 3.7 1.5 0.4]\n",
      " [7.2 3.6 6.1 2.5]\n",
      " [6.3 2.7 4.9 1.8]\n",
      " [4.9 3.  1.4 0.2]\n",
      " [4.4 3.  1.3 0.2]\n",
      " [5.7 4.4 1.5 0.4]\n",
      " [6.3 3.3 6.  2.5]\n",
      " [5.4 3.9 1.3 0.4]\n",
      " [4.3 3.  1.1 0.1]\n",
      " [7.9 3.8 6.4 2. ]\n",
      " [7.3 2.9 6.3 1.8]\n",
      " [4.8 3.  1.4 0.3]\n",
      " [7.7 3.8 6.7 2.2]\n",
      " [6.5 3.2 5.1 2. ]\n",
      " [5.1 3.4 1.5 0.2]\n",
      " [6.5 3.  5.2 2. ]\n",
      " [5.1 3.5 1.4 0.2]\n",
      " [6.5 3.  5.8 2.2]\n",
      " [4.9 3.1 1.5 0.1]\n",
      " [4.6 3.1 1.5 0.2]\n",
      " [5.  3.6 1.4 0.2]\n",
      " [5.1 3.5 1.4 0.3]\n",
      " [5.  3.5 1.6 0.6]\n",
      " [4.5 2.3 1.3 0.3]\n",
      " [4.8 3.4 1.9 0.2]\n",
      " [7.2 3.2 6.  1.8]\n",
      " [5.8 2.7 5.1 1.9]\n",
      " [5.6 2.8 4.9 2. ]\n",
      " [4.9 3.1 1.5 0.1]\n",
      " [6.5 3.  5.5 1.8]\n",
      " [4.9 2.5 4.5 1.7]\n",
      " [6.4 2.8 5.6 2.1]\n",
      " [6.  3.  4.8 1.8]\n",
      " [5.2 3.4 1.4 0.2]\n",
      " [5.  3.5 1.3 0.3]]\n",
      "Train Data Labels :  [0 0 0 0 0 2 0 2 2 0 2 2 0 0 2 2 2 0 2 2 2 2 2 0 0 0 0 2 2 0 2 0 2 2 2 2 2\n",
      " 0 2 2 2 0 0 0 0 0 2 2 0 0 0 2 0 0 2 2 0 2 2 0 2 0 2 0 0 0 0 0 0 0 2 2 2 0\n",
      " 2 2 2 2 0 0]\n"
     ]
    }
   ],
   "source": [
    "# Test the class splitting function\n",
    "train_features, train_labels = class_split(train_data)\n",
    "\n",
    "# Print the output\n",
    "print(\"Train Data Features : \",train_features)\n",
    "print(\"Train Data Labels : \",train_labels)"
   ]
  },
  {
   "cell_type": "markdown",
   "metadata": {},
   "source": [
    "We should also try to **1)** first split a class into a train and test set, **2)** split each of these two into features and abels. In total there should be 4 arrays (2 feature and 2 label arrays)."
   ]
  },
  {
   "cell_type": "code",
   "execution_count": 26,
   "metadata": {},
   "outputs": [
    {
     "name": "stdout",
     "output_type": "stream",
     "text": [
      "Train Data Features :  [[4.9 3.1 1.5 0.1]\n",
      " [5.4 3.4 1.5 0.4]\n",
      " [5.  3.4 1.6 0.4]\n",
      " [4.4 2.9 1.4 0.2]\n",
      " [5.4 3.7 1.5 0.2]\n",
      " [7.2 3.  5.8 1.6]\n",
      " [5.2 4.1 1.5 0.1]\n",
      " [6.1 2.6 5.6 1.4]\n",
      " [6.4 2.7 5.3 1.9]\n",
      " [5.3 3.7 1.5 0.2]\n",
      " [7.7 3.  6.1 2.3]\n",
      " [6.7 3.3 5.7 2.1]\n",
      " [5.4 3.4 1.7 0.2]\n",
      " [4.6 3.4 1.4 0.3]\n",
      " [6.9 3.2 5.7 2.3]\n",
      " [5.8 2.7 5.1 1.9]\n",
      " [5.8 2.8 5.1 2.4]\n",
      " [5.  3.3 1.4 0.2]\n",
      " [6.7 3.3 5.7 2.5]\n",
      " [5.7 2.5 5.  2. ]\n",
      " [6.  2.2 5.  1.5]\n",
      " [6.7 3.1 5.6 2.4]\n",
      " [6.9 3.1 5.1 2.3]\n",
      " [5.5 3.5 1.3 0.2]\n",
      " [4.6 3.6 1.  0.2]\n",
      " [5.  3.4 1.5 0.2]\n",
      " [5.1 3.3 1.7 0.5]\n",
      " [6.9 3.1 5.4 2.1]\n",
      " [6.2 3.4 5.4 2.3]\n",
      " [4.4 3.2 1.3 0.2]\n",
      " [6.4 3.1 5.5 1.8]\n",
      " [5.1 3.8 1.9 0.4]\n",
      " [6.3 2.8 5.1 1.5]\n",
      " [6.8 3.  5.5 2.1]\n",
      " [6.3 2.5 5.  1.9]\n",
      " [6.8 3.2 5.9 2.3]\n",
      " [7.1 3.  5.9 2.1]\n",
      " [4.8 3.4 1.6 0.2]\n",
      " [6.4 2.8 5.6 2.2]\n",
      " [7.6 3.  6.6 2.1]\n",
      " [7.7 2.6 6.9 2.3]\n",
      " [5.5 4.2 1.4 0.2]\n",
      " [5.7 3.8 1.7 0.3]\n",
      " [4.8 3.  1.4 0.1]\n",
      " [5.1 3.8 1.5 0.3]\n",
      " [5.1 3.7 1.5 0.4]\n",
      " [7.2 3.6 6.1 2.5]\n",
      " [6.3 2.7 4.9 1.8]\n",
      " [4.9 3.  1.4 0.2]\n",
      " [4.4 3.  1.3 0.2]\n",
      " [5.7 4.4 1.5 0.4]\n",
      " [6.3 3.3 6.  2.5]\n",
      " [5.4 3.9 1.3 0.4]\n",
      " [4.3 3.  1.1 0.1]\n",
      " [7.9 3.8 6.4 2. ]\n",
      " [7.3 2.9 6.3 1.8]\n",
      " [4.8 3.  1.4 0.3]\n",
      " [7.7 3.8 6.7 2.2]\n",
      " [6.5 3.2 5.1 2. ]\n",
      " [5.1 3.4 1.5 0.2]\n",
      " [6.5 3.  5.2 2. ]\n",
      " [5.1 3.5 1.4 0.2]\n",
      " [6.5 3.  5.8 2.2]\n",
      " [4.9 3.1 1.5 0.1]\n",
      " [4.6 3.1 1.5 0.2]\n",
      " [5.  3.6 1.4 0.2]\n",
      " [5.1 3.5 1.4 0.3]\n",
      " [5.  3.5 1.6 0.6]\n",
      " [4.5 2.3 1.3 0.3]\n",
      " [4.8 3.4 1.9 0.2]\n",
      " [7.2 3.2 6.  1.8]\n",
      " [5.8 2.7 5.1 1.9]\n",
      " [5.6 2.8 4.9 2. ]\n",
      " [4.9 3.1 1.5 0.1]\n",
      " [6.5 3.  5.5 1.8]\n",
      " [4.9 2.5 4.5 1.7]\n",
      " [6.4 2.8 5.6 2.1]\n",
      " [6.  3.  4.8 1.8]\n",
      " [5.2 3.4 1.4 0.2]\n",
      " [5.  3.5 1.3 0.3]]\n",
      "Train Data Labels :  [0 0 0 0 0 2 0 2 2 0 2 2 0 0 2 2 2 0 2 2 2 2 2 0 0 0 0 2 2 0 2 0 2 2 2 2 2\n",
      " 0 2 2 2 0 0 0 0 0 2 2 0 0 0 2 0 0 2 2 0 2 2 0 2 0 2 0 0 0 0 0 0 0 2 2 2 0\n",
      " 2 2 2 2 0 0]\n",
      "Test Data Features :  [[4.6 3.2 1.4 0.2]\n",
      " [6.3 3.4 5.6 2.4]\n",
      " [5.4 3.9 1.7 0.4]\n",
      " [4.8 3.1 1.6 0.2]\n",
      " [6.1 3.  4.9 1.8]\n",
      " [5.  3.2 1.2 0.2]\n",
      " [6.7 2.5 5.8 1.8]\n",
      " [5.2 3.5 1.5 0.2]\n",
      " [4.7 3.2 1.6 0.2]\n",
      " [6.4 3.2 5.3 2.3]\n",
      " [4.7 3.2 1.3 0.2]\n",
      " [6.2 2.8 4.8 1.8]\n",
      " [5.  3.  1.6 0.2]\n",
      " [6.3 2.9 5.6 1.8]\n",
      " [5.1 3.8 1.6 0.2]\n",
      " [6.7 3.  5.2 2.3]\n",
      " [5.9 3.  5.1 1.8]\n",
      " [7.4 2.8 6.1 1.9]\n",
      " [7.7 2.8 6.7 2. ]\n",
      " [5.8 4.  1.2 0.2]]\n",
      "Test Data Labels :  [0 2 0 0 2 0 2 0 0 2 0 2 0 2 0 2 2 2 2 0]\n"
     ]
    }
   ],
   "source": [
    "# Use the above data handling functions to make 2 feature arrays and 2 label arrays. \n",
    "train_features, train_labels = class_split(train_data)\n",
    "test_features, test_labels = class_split(test_data)\n",
    "\n",
    "\n",
    "# TODO: Print the output (you may use multiple print-statements if you wish)\n",
    "print(\"Train Data Features : \",train_features)\n",
    "print(\"Train Data Labels : \",train_labels)\n",
    "print(\"Test Data Features : \",test_features)\n",
    "print(\"Test Data Labels : \",test_labels)"
   ]
  },
  {
   "cell_type": "markdown",
   "metadata": {},
   "source": [
    "Think a bit before going to the next task, what can easily go wrong in the above code?"
   ]
  },
  {
   "cell_type": "markdown",
   "metadata": {},
   "source": [
    "## Naive Bayes learning algorithm"
   ]
  },
  {
   "cell_type": "markdown",
   "metadata": {},
   "source": [
    "When implementing the Navie Bayes learning algorithm, we can break it down into a few components.\n",
    "\n",
    "We will implement these components one at a time."
   ]
  },
  {
   "cell_type": "markdown",
   "metadata": {},
   "source": [
    "### 3) Calculate feature statistics\n",
    "\n",
    "First, we need to implement a function that returns feature statistics (means, standard deviation, priors) for a given set of feature data for a single class. This is the equivalent of \"training\" the naive bayes model.\n",
    "\n",
    "**Note 1:** Each feature gets its own mean and standard deviation!\n",
    "\n",
    "**Note 2:** The way you structure the functions (what is returned) shapes the remainder of the assignment."
   ]
  },
  {
   "cell_type": "code",
   "execution_count": 27,
   "metadata": {},
   "outputs": [],
   "source": [
    "def calculate_feature_statistics(feature_data, class_labels):\n",
    "    stats = {}\n",
    "    unique_labels = np.unique(class_labels)\n",
    "    for label in unique_labels:\n",
    "        class_data = feature_data[class_labels == label].astype(float)\n",
    "        stats[label] = {\n",
    "            'mean': np.mean(class_data, axis=0),\n",
    "            'std': np.sqrt(np.var(class_data, axis=0)),\n",
    "            'prior': len(class_data) / len(feature_data)\n",
    "        }\n",
    "    return stats"
   ]
  },
  {
   "cell_type": "markdown",
   "metadata": {},
   "source": [
    "To make sure the function works, we should test it before proceding."
   ]
  },
  {
   "cell_type": "code",
   "execution_count": 28,
   "metadata": {},
   "outputs": [
    {
     "name": "stdout",
     "output_type": "stream",
     "text": [
      "Temp Feature Stats :  {0: {'mean': array([5.    , 3.42  , 1.4625, 0.25  , 0.    ]), 'std': array([0.3485685 , 0.38483763, 0.17130018, 0.11401754, 0.        ]), 'prior': 0.5}, 2: {'mean': array([6.5925, 2.9825, 5.5625, 2.035 , 2.    ]), 'std': array([0.64860909, 0.33681412, 0.54437464, 0.2797767 , 0.        ]), 'prior': 0.5}}\n"
     ]
    }
   ],
   "source": [
    "# Make sure to use our previous class splitting function.\n",
    "feature_stats_temp = calculate_feature_statistics(train_data, train_labels)\n",
    "\n",
    "print(\"Temp Feature Stats : \",feature_stats_temp) "
   ]
  },
  {
   "cell_type": "markdown",
   "metadata": {},
   "source": [
    "### 4) Gaussian probability density function (Gaussian PDF)\n",
    "\n",
    "Now we need to implement the gaussian probability density function to use for a single datapoint.\n",
    "\n",
    "**Note:** Look at the imports in the first cell at the top, it has some math numbers for easy use here. "
   ]
  },
  {
   "cell_type": "code",
   "execution_count": 44,
   "metadata": {},
   "outputs": [],
   "source": [
    "def gaussian_probability_density_function(x, mean, std):\n",
    "    x = np.array(x)\n",
    "    mean = np.array(mean)\n",
    "    std = np.array(std)\n",
    "    exponent = np.exp(-((x - mean) ** 2 / (2 * std ** 2)))\n",
    "    return (1 / (np.sqrt(2 * np.pi) * std)) * exponent"
   ]
  },
  {
   "cell_type": "markdown",
   "metadata": {},
   "source": [
    "## Prepare Naive Bayes for binary classification"
   ]
  },
  {
   "cell_type": "markdown",
   "metadata": {},
   "source": [
    "### 6) Prepare the data for inference\n",
    "\n",
    "Before we train and test the naive bayes for multiple classes, we should get our data in order.\n",
    "\n",
    "Similar to how we did previously, we should now split two classes into a train and test set, you may choose which two classes freely."
   ]
  },
  {
   "cell_type": "code",
   "execution_count": 46,
   "metadata": {},
   "outputs": [],
   "source": [
    "predictions = []\n",
    "true_labels = []"
   ]
  },
  {
   "cell_type": "markdown",
   "metadata": {},
   "source": [
    "### 7) Class A vs Class B for binary classification\n",
    "\n",
    "**Note:** You might need to go back and forth a bit in the following cells during your implementation of your code.\n",
    "\n",
    "We have to get the probability from two sets of classes and compare the two probabilities in order to make a propper prediction.\n",
    "\n",
    "Here we will implement two functions to make this possible. We seperate these functions to make the implementation of the ROC-curve easier later on.\n",
    "\n",
    "**Function 1: naive_bayes_prediction** \n",
    "* A function that returns the probabilities for each class the model for a single datapoint.\n",
    "\n",
    "**Function 2: probabilities_to_prediction**\n",
    "* A function that takes in probabilities and returns a prediction."
   ]
  },
  {
   "cell_type": "code",
   "execution_count": 50,
   "metadata": {},
   "outputs": [],
   "source": [
    "def naive_bayes_prediction(feature_stats, data_point):\n",
    "    probabilities = {}\n",
    "    total_probability = 0\n",
    "    \n",
    "    for class_label, stats in feature_stats.items():\n",
    "        log_likelihood = 0\n",
    "        for i, feature_value in enumerate(data_point):\n",
    "            mean = stats['mean'][i]\n",
    "            std_dev = stats['std'][i]\n",
    "            # print(f\"Naive Bayes Test : mean({mean}) : std_dev({std_dev})\")\n",
    "            log_likelihood += np.log(gaussian_probability_density_function(feature_value, mean, std_dev))\n",
    "        log_prior = np.log(stats['prior'])\n",
    "        probabilities[class_label] = np.exp(log_likelihood + log_prior)\n",
    "        total_probability += probabilities[class_label]\n",
    "    \n",
    "    # Normalize probabilities\n",
    "    for class_label in probabilities:\n",
    "        probabilities[class_label] /= total_probability\n",
    "    \n",
    "    return probabilities"
   ]
  },
  {
   "cell_type": "code",
   "execution_count": 31,
   "metadata": {},
   "outputs": [],
   "source": [
    "def probabilities_to_prediction(probabilities):\n",
    "    class_prediction = max(probabilities, key=probabilities.get)\n",
    "    return class_prediction"
   ]
  },
  {
   "cell_type": "code",
   "execution_count": 48,
   "metadata": {},
   "outputs": [
    {
     "name": "stdout",
     "output_type": "stream",
     "text": [
      "[[0, 0], [1, 1], [2, 2]]\n",
      "[0, 1, 2]\n"
     ]
    }
   ],
   "source": [
    "labels_info = [[numb, name] for numb, name in enumerate(mapped)]\n",
    "class_labels = [label[0] for label in labels_info]\n",
    "print(labels_info)\n",
    "print(class_labels)"
   ]
  },
  {
   "cell_type": "markdown",
   "metadata": {},
   "source": [
    "## ROC-curve\n",
    "\n",
    "A ROC curve, or *Receiver Operating Characteristic curve*, is a graphical plot that illustrates the performance of a binary classifier such as our Naive Bayes model.\n",
    "\n",
    "More info can be found in the course material and here: [https://en.wikipedia.org/wiki/Receiver_operating_characteristic](https://en.wikipedia.org/wiki/Receiver_operating_characteristic)\n",
    "\n",
    "Another good illustration by Google can be found here: [https://developers.google.com/machine-learning/crash-course/classification/roc-and-auc](https://developers.google.com/machine-learning/crash-course/classification/roc-and-auc)\n",
    "\n",
    "Now that we have a prediction model, we would want to try it out and test it using a ROC-curve."
   ]
  },
  {
   "cell_type": "markdown",
   "metadata": {},
   "source": [
    "### 8) True Positive Rate (TPR) and False Positive Rate (FPR)\n",
    "\n",
    "From our prediction function we get probabilities, and for prediction purposes we have just predicted the one with the highest probability.\n",
    "\n",
    "To plot a ROC-curve, we need the TPR and FPR for the binary classification. We will implement this here.\n",
    "\n",
    "**Note 1:** The threshold is is a value that goes from 0 to 1. \n",
    "\n",
    "**Note 2:** One of the two classes will be seen as \"the positive class\" (prediction over the threshold) and the other as \"the negative class\" (prediction under the threshold).\n",
    "\n",
    "**Note 3:** The threshold stepsize will decide the size of the returned TPR/FPR list. A value of 0.1 will give 10 elements (0 to 1 in increments of 0.1)"
   ]
  },
  {
   "cell_type": "code",
   "execution_count": 38,
   "metadata": {},
   "outputs": [
    {
     "name": "stdout",
     "output_type": "stream",
     "text": [
      "Python list: [0.0, 0.1, 0.2, 0.3, 0.4, 0.5, 0.6, 0.7, 0.8, 0.9]\n",
      "Numpy linspace: [0.  0.1 0.2 0.3 0.4 0.5 0.6 0.7 0.8 0.9 1. ]\n",
      "Numpy linspace (no endpoint): [0.  0.1 0.2 0.3 0.4 0.5 0.6 0.7 0.8 0.9]\n"
     ]
    }
   ],
   "source": [
    "# Stepsize demonstration\n",
    "print(\"Python list:\", [x/10 for x in range(0,10,1)])\n",
    "\n",
    "# Stepsize demonstration with numpy:\n",
    "print(\"Numpy linspace:\", np.linspace(0,1,11))\n",
    "print(\"Numpy linspace (no endpoint):\", np.linspace(0,1,10,endpoint=False))"
   ]
  },
  {
   "cell_type": "code",
   "execution_count": 32,
   "metadata": {},
   "outputs": [],
   "source": [
    "def TPR_and_FPR(prediction_probabilities, test_labels, threshold_stepsize = 0.1):\n",
    "    thresholds = np.arange(0, 1 + threshold_stepsize, threshold_stepsize)\n",
    "    TPR, FPR = [], []\n",
    "    test_labels = np.array(test_labels)\n",
    "    \n",
    "    for threshold in thresholds:\n",
    "        predicted = (np.array(prediction_probabilities) >= threshold).astype(int)\n",
    "\n",
    "        TP = np.sum((predicted == 1) & (test_labels == 1))\n",
    "        FP = np.sum((predicted == 1) & (test_labels == 0))\n",
    "        FN = np.sum((predicted == 0) & (test_labels == 1))\n",
    "        TN = np.sum((predicted == 0) & (test_labels == 0))\n",
    "\n",
    "        TPR_value = TP / (TP + FN) if (TP + FN) > 0 else 0\n",
    "        FPR_value = FP / (FP + TN) if (FP + TN) > 0 else 0\n",
    "        TPR.append(TPR_value)\n",
    "        FPR.append(FPR_value)\n",
    "\n",
    "    return TPR, FPR"
   ]
  },
  {
   "cell_type": "markdown",
   "metadata": {},
   "source": [
    "How does the values change if you change the threshold stepsize? \n",
    "\n",
    "How does the values change if you change the classes you compare?"
   ]
  },
  {
   "cell_type": "markdown",
   "metadata": {},
   "source": [
    "### 9) Plot the TPR and FPR\n",
    "\n",
    "To better see what is going on, we can plot the TPR and FPR. We can also calculate the Area Under the ROC Curve (AUC or AUROC) at the same time."
   ]
  },
  {
   "cell_type": "code",
   "execution_count": 33,
   "metadata": {},
   "outputs": [],
   "source": [
    "def plot_ROC(TPR, FPR, class_1, class_2):\n",
    "    auc_score = np.trapz(sorted(TPR), sorted(FPR))\n",
    "    plt.plot(FPR, TPR, color='b', label=f\"AUC = {auc_score:.3f}\")\n",
    "    plt.plot([0, 1], [0, 1], linestyle='dashdot', color='r', label='Random Guess')\n",
    "    \n",
    "    plt.xlabel('False Positive Rate')\n",
    "    plt.ylabel('True Positive Rate')\n",
    "    plt.title(f\"ROC Curve: {class_1} vs. {class_2}\")\n",
    "    plt.legend()\n",
    "    plt.show()"
   ]
  },
  {
   "cell_type": "markdown",
   "metadata": {},
   "source": [
    "## Cross-validation\n",
    "\n",
    "The final task is to take everything you have implemented so far and apply it in a cross-validation loop.\n",
    "\n",
    "**Note 1:** To better reflect a real scenarios, you should shuffle the data before doing cross-validation.\n",
    "\n",
    "**Note 2:** When using cross-validation, the interesting thing is the mean performance (mean AUC, mean accuracy, mean ROC-curve).\n",
    "\n",
    "**Note 3:** This part is a bit more free in terms of implementation, but make sure to use some of the previously implemented functions."
   ]
  },
  {
   "cell_type": "markdown",
   "metadata": {},
   "source": [
    "### 10) Cross-validation loop"
   ]
  },
  {
   "cell_type": "code",
   "execution_count": 34,
   "metadata": {},
   "outputs": [],
   "source": [
    "def cross_validation(data, target, folds = 10, threshold_stepsize = 0.1):\n",
    "    fold_size = len(data) // folds\n",
    "    unique_classes = np.unique(target)\n",
    "    if len(unique_classes) != 2:\n",
    "        raise ValueError(\"ROC analysis requires exactly two classes.\")\n",
    "    \n",
    "    class_1, class_2 = unique_classes[1], unique_classes[0]\n",
    "    all_TPR, all_FPR = [], []\n",
    "    \n",
    "    for i in range(folds):\n",
    "        # Create train-test splits\n",
    "        start, end = i * fold_size, (i + 1) * fold_size\n",
    "        test_data = data[start:end]\n",
    "        test_labels = target[start:end]\n",
    "        train_data = np.concatenate((data[:start], data[end:]), axis=0)\n",
    "        train_labels = np.concatenate((target[:start], target[end:]), axis=0)\n",
    "        \n",
    "        # Train Naive Bayes and predict probabilities\n",
    "        feature_stats = calculate_feature_statistics(train_data, train_labels)\n",
    "        prediction_probabilities = [\n",
    "            naive_bayes_prediction(feature_stats, x)[class_1] for x in test_data\n",
    "        ]\n",
    "        \n",
    "        # Calculate TPR and FPR\n",
    "        TPR, FPR = TPR_and_FPR(prediction_probabilities, test_labels, threshold_stepsize)\n",
    "        all_TPR.append(TPR)\n",
    "        all_FPR.append(FPR)\n",
    "    \n",
    "    # Average TPR and FPR across folds\n",
    "    mean_TPR = np.mean(all_TPR, axis=0)\n",
    "    mean_FPR = np.mean(all_FPR, axis=0)\n",
    "    \n",
    "    # Plot ROC\n",
    "    plot_ROC(mean_TPR, mean_FPR, class_1, class_2)"
   ]
  },
  {
   "cell_type": "markdown",
   "metadata": {},
   "source": [
    "### 11) 10-fold Cross-validation on all classes\n",
    "\n",
    "Test the \"cross_validation\" function on all the classes against eachother using 10 folds.\n",
    "\n",
    "* Iris-setosa vs Iris-versicolor\n",
    "* Iris-setosa vs Iris-virginica\n",
    "* Iris-versicolor vs Iris-virginica"
   ]
  },
  {
   "cell_type": "markdown",
   "metadata": {},
   "source": [
    "### Implement and test cross-validation function on all classes."
   ]
  },
  {
   "cell_type": "code",
   "execution_count": null,
   "metadata": {},
   "outputs": [],
   "source": [
    "filtered_data = data[data[:, -1] != 1]\n",
    "prediction_class =['2', '0']\n",
    "\n",
    "feature_stats = calculate_feature_statistics(train_features, train_labels)\n",
    "\n",
    "for test_sample in test_data:\n",
    "    probabilities = naive_bayes_prediction(feature_stats, test_sample[:-1])\n",
    "    predicted_class = probabilities_to_prediction(probabilities)\n",
    "    predictions.append(predicted_class)\n",
    "    true_labels.append(test_sample[-1])"
   ]
  },
  {
   "cell_type": "markdown",
   "metadata": {},
   "source": [
    "### Calculate accuracy"
   ]
  },
  {
   "cell_type": "code",
   "execution_count": 52,
   "metadata": {},
   "outputs": [
    {
     "name": "stdout",
     "output_type": "stream",
     "text": [
      "True labels: [2, 2, 0, 0, 0, 2, 0, 2, 2, 0, 2, 2, 0, 0, 0, 0, 2, 0, 2, 2, 2, 2, 0, 0, 0, 2, 0, 2, 2, 0, 2, 2, 0, 0, 0, 0, 2, 0, 2, 2, 2, 2, 0, 0, 0, 2, 0, 2, 2, 0, 2, 2, 0, 0, 0, 0, 2, 0, 2, 2]\n",
      "Predictions: [2, 2, 0, 0, 0, 2, 0, 2, 2, 0, 2, 2, 0, 0, 0, 0, 2, 0, 2, 2, 2, 2, 0, 0, 0, 2, 0, 2, 2, 0, 2, 2, 0, 0, 0, 0, 2, 0, 2, 2, 2, 2, 0, 0, 0, 2, 0, 2, 2, 0, 2, 2, 0, 0, 0, 0, 2, 0, 2, 2]\n",
      "Accuracy: 100.00%\n"
     ]
    }
   ],
   "source": [
    "accuracy = sum(p == t for p, t in zip(predictions, true_labels)) / len(true_labels)\n",
    "print(f\"True labels: {true_labels}\")\n",
    "print(f\"Predictions: {predictions}\")\n",
    "print(f\"Accuracy: {accuracy * 100:.2f}%\")"
   ]
  },
  {
   "cell_type": "code",
   "execution_count": 53,
   "metadata": {},
   "outputs": [],
   "source": [
    "target = filtered_data[:, -1]\n",
    "data = filtered_data[:, :-1] "
   ]
  },
  {
   "cell_type": "markdown",
   "metadata": {},
   "source": [
    "### Evaluate using ROC"
   ]
  },
  {
   "cell_type": "code",
   "execution_count": 54,
   "metadata": {},
   "outputs": [
    {
     "data": {
      "image/png": "[encoded data removed]",
      "text/plain": [
       "<Figure size 640x480 with 1 Axes>"
      ]
     },
     "metadata": {},
     "output_type": "display_data"
    }
   ],
   "source": [
    "cross_validation(data, target, folds=10, threshold_stepsize=0.1)"
   ]
  },
  {
   "cell_type": "markdown",
   "metadata": {},
   "source": [
    "# Questions for examination:\n",
    "\n",
    "In addition to completing the assignment with all its tasks, you should also prepare to answer the following questions:\n",
    "\n",
    "1) Why is it called \"naive bayes\"?\n",
    "Ans : The Naive Bayes algorithm is an implementation of the traditional Bayes Theorem which was named after `Reverend Thomas Bayes` who studied Binomial Distributions and their probabilities and hence the model that implemented this algorithm was also named Naive Bayes after `Reverend Thomas Bayes`. The term `Naive`came into the name because of the independence assumtions made to reach the theorem which at that time was considered a 'Naive' approach.\n",
    "\n",
    "2) What are some downsides of the naive bayes learning algorithm?\n",
    "Ans : The Naive Bayes algorithm has the following demerits to it : \n",
    "    - Conditional Independence Assumption : The assumptions about independence made in the algorithm doesn't always hold in real life situations\n",
    "    - Zero Probability Problem : Any words encountered in the test data that aren't in the training data results in class probability value of zero\n",
    "\n",
    "3) When using ROC-curves, what is the theoretical best and worst result you can get?\n",
    "Ans : Theoretically, the best ROC curve would have a curve score of 1.0. This is the case where the predictions exactly match with actual values for all tested values within and outside the testing data. The worst case would be a curve score of 0.5. This would be the equivalent of randomly guessing the outcome.\n",
    "\n",
    "4) When using ROC-curves, in this assignment for example, is a higher threshold-stepsize always better?  \n",
    "Ans : No, a smaller threshold step size would provide a smoother ROC curve but it could possibly increase the computational time, but inversely, a larger threshold step size would reduce precision but can complete computations faster. This is usually dynamic and can vary based on the dataset used.\n",
    "\n",
    "5) When using cross-validation and ROC-curves, why is it important to take the correct mean values? What could go wrong?\n",
    "Ans : Compared to numeric representations, ROC curves can represent the average performance of the model over each folds of cross validation in a more visually pleasing and understandable method and hence is helpful for a human analyst.\n",
    "This can be offset by incorrect mean values since incorrect mean values can grossly misrepresent the true performance of the model, often leading to wrongly reached conclusions about the model's effectiveness."
   ]
  },
  {
   "cell_type": "markdown",
   "metadata": {},
   "source": [
    "# Finished!"
   ]
  }
 ],
 "metadata": {
  "kernelspec": {
   "display_name": "Python 3",
   "language": "python",
   "name": "python3"
  },
  "language_info": {
   "codemirror_mode": {
    "name": "ipython",
    "version": 3
   },
   "file_extension": ".py",
   "mimetype": "text/x-python",
   "name": "python",
   "nbconvert_exporter": "python",
   "pygments_lexer": "ipython3",
   "version": "3.12.8"
  }
 },
 "nbformat": 4,
 "nbformat_minor": 2
}
