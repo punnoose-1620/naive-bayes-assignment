{
  "cells": [
    {
      "cell_type": "code",
      "execution_count": 1,
      "metadata": {
        "id": "NxM_QjATq0Ti"
      },
      "outputs": [],
      "source": [
        "import pandas as pd\n",
        "import numpy as np\n",
        "import matplotlib.pyplot as plt\n",
        "\n",
        "from sklearn.model_selection import KFold\n",
        "from sklearn.metrics import roc_curve, auc\n",
        "from sklearn.preprocessing import label_binarize\n",
        "from sklearn.model_selection import train_test_split\n",
        "from sklearn.metrics import confusion_matrix, ConfusionMatrixDisplay"
      ]
    },
    {
      "cell_type": "markdown",
      "metadata": {
        "id": "J_SfCeReq8BX"
      },
      "source": [
        "# Load the CSV data"
      ]
    },
    {
      "cell_type": "code",
      "execution_count": 2,
      "metadata": {
        "id": "7U4hbOErq2HF"
      },
      "outputs": [
        {
          "name": "stdout",
          "output_type": "stream",
          "text": [
            "Index(['sepal length', 'sepal width', 'petal length', 'petal width', 'class'], dtype='object')\n",
            "<bound method NDFrame.head of     sepal length sepal width petal length petal width           class\n",
            "0              r           r            r           r               n\n",
            "1            5.1         3.5          1.4         0.2     Iris-setosa\n",
            "2            4.9         3.0          1.4         0.2     Iris-setosa\n",
            "3            4.7         3.2          1.3         0.2     Iris-setosa\n",
            "4            4.6         3.1          1.5         0.2     Iris-setosa\n",
            "..           ...         ...          ...         ...             ...\n",
            "146          6.7         3.0          5.2         2.3  Iris-virginica\n",
            "147          6.3         2.5          5.0         1.9  Iris-virginica\n",
            "148          6.5         3.0          5.2         2.0  Iris-virginica\n",
            "149          6.2         3.4          5.4         2.3  Iris-virginica\n",
            "150          5.9         3.0          5.1         1.8  Iris-virginica\n",
            "\n",
            "[151 rows x 5 columns]>\n"
          ]
        }
      ],
      "source": [
        "data = pd.read_csv('iris.csv')\n",
        "print(data.columns)\n",
        "print(data.head)"
      ]
    },
    {
      "cell_type": "markdown",
      "metadata": {
        "id": "u359wmdZrBZm"
      },
      "source": [
        "# Assuming the last column is the target and the rest are features"
      ]
    },
    {
      "cell_type": "code",
      "execution_count": 3,
      "metadata": {
        "id": "v3dyJHE0q315"
      },
      "outputs": [],
      "source": [
        "X = data.iloc[:, :-1]\n",
        "y = data.iloc[:, -1]"
      ]
    },
    {
      "cell_type": "markdown",
      "metadata": {},
      "source": [
        "# Assuming `y` contains class labels as integers starting from 0"
      ]
    },
    {
      "cell_type": "code",
      "execution_count": 4,
      "metadata": {},
      "outputs": [
        {
          "name": "stdout",
          "output_type": "stream",
          "text": [
            "['Iris-setosa' 'Iris-versicolor' 'Iris-virginica' 'n']\n",
            "4\n"
          ]
        }
      ],
      "source": [
        "num_classes = len(np.unique(y))\n",
        "print(np.unique(y))\n",
        "print(num_classes)"
      ]
    },
    {
      "cell_type": "code",
      "execution_count": 5,
      "metadata": {},
      "outputs": [],
      "source": [
        "X = pd.get_dummies(X, drop_first=True)\n",
        "y = y.astype('category').cat.codes"
      ]
    },
    {
      "cell_type": "markdown",
      "metadata": {},
      "source": [
        "### Sub-Step 1: Binarize the labels"
      ]
    },
    {
      "cell_type": "code",
      "execution_count": 6,
      "metadata": {},
      "outputs": [],
      "source": [
        "y_binarized = label_binarize(y, classes=range(num_classes))"
      ]
    },
    {
      "cell_type": "markdown",
      "metadata": {
        "id": "iwC9Oa3VrEHc"
      },
      "source": [
        "# Preprocess the data"
      ]
    },
    {
      "cell_type": "code",
      "execution_count": 7,
      "metadata": {},
      "outputs": [
        {
          "name": "stdout",
          "output_type": "stream",
          "text": [
            "The CSV file has no NaN values.\n"
          ]
        }
      ],
      "source": [
        "def check_nan_in_csv():\n",
        "    try:\n",
        "        # Check for NaN values\n",
        "        nan_summary = data.isna().sum()\n",
        "        total_nan = nan_summary.sum()\n",
        "        \n",
        "        if total_nan == 0:\n",
        "            print(\"The CSV file has no NaN values.\")\n",
        "        else:\n",
        "            print(f\"The CSV file contains {total_nan} NaN values.\")\n",
        "            nan_columns = nan_summary[nan_summary > 0]\n",
        "            print(\"Columns with NaN values:\")\n",
        "            print(nan_columns)\n",
        "    except Exception as e:\n",
        "        print(f\"An error occurred: {e}\")\n",
        "check_nan_in_csv()\n"
      ]
    },
    {
      "cell_type": "markdown",
      "metadata": {
        "id": "5SptN7czrHyg"
      },
      "source": [
        "# Naive Bayes Implementation"
      ]
    },
    {
      "cell_type": "code",
      "execution_count": 8,
      "metadata": {
        "id": "f6IBeHKFrLO3"
      },
      "outputs": [],
      "source": [
        "class NaiveBayes:\n",
        "    def fit(self, X, y):\n",
        "        self.classes = np.unique(y)\n",
        "        self.feature_stats = {}\n",
        "        self.class_prior = {}\n",
        "\n",
        "        for c in self.classes:\n",
        "            X_c = X[y == c]\n",
        "            self.feature_stats[c] = {\n",
        "                \"mean\": X_c.mean(axis=0),\n",
        "                \"var\": X_c.var(axis=0)\n",
        "            }\n",
        "            self.class_prior[c] = len(X_c) / len(y)\n",
        "\n",
        "    def predict(self, X):\n",
        "        posteriors = []\n",
        "\n",
        "        for x in X:\n",
        "            class_probs = []\n",
        "            for c in self.classes:\n",
        "                prior = np.log(self.class_prior[c])\n",
        "                likelihood = -0.5 * np.sum(\n",
        "                    np.log(2 * np.pi * self.feature_stats[c][\"var\"]) +\n",
        "                    ((x - self.feature_stats[c][\"mean\"]) ** 2) / (2 * self.feature_stats[c][\"var\"])\n",
        "                )\n",
        "                class_probs.append(prior + likelihood)\n",
        "            posteriors.append(self.classes[np.argmax(class_probs)])\n",
        "\n",
        "        return np.array(posteriors)"
      ]
    },
    {
      "cell_type": "markdown",
      "metadata": {
        "id": "o3IDGOoPrabK"
      },
      "source": [
        "# Train and Predict"
      ]
    },
    {
      "cell_type": "markdown",
      "metadata": {},
      "source": [
        "### Initialize KFold"
      ]
    },
    {
      "cell_type": "code",
      "execution_count": 9,
      "metadata": {},
      "outputs": [],
      "source": [
        "kf = KFold(n_splits=10, shuffle=True, random_state=42)\n",
        "mean_fpr = np.linspace(0, 1, 100)  # Define a common set of FPR points for interpolation\n",
        "tpr = {i: [] for i in range(num_classes)}  # True positive rates\n",
        "roc_auc = {i: [] for i in range(num_classes)}  # AUC for each class\n",
        "fold_accuracies = []"
      ]
    },
    {
      "cell_type": "markdown",
      "metadata": {},
      "source": [
        "### Cross-Validation"
      ]
    },
    {
      "cell_type": "code",
      "execution_count": 10,
      "metadata": {},
      "outputs": [
        {
          "name": "stderr",
          "output_type": "stream",
          "text": [
            "C:\\Users\\Punnoose K Thomas\\AppData\\Local\\Temp\\ipykernel_5040\\2913327246.py:23: RuntimeWarning: divide by zero encountered in log\n",
            "  np.log(2 * np.pi * self.feature_stats[c][\"var\"]) +\n",
            "C:\\Users\\Punnoose K Thomas\\AppData\\Local\\Temp\\ipykernel_5040\\2913327246.py:24: RuntimeWarning: divide by zero encountered in divide\n",
            "  ((x - self.feature_stats[c][\"mean\"]) ** 2) / (2 * self.feature_stats[c][\"var\"])\n",
            "C:\\Users\\Punnoose K Thomas\\AppData\\Local\\Temp\\ipykernel_5040\\2913327246.py:24: RuntimeWarning: invalid value encountered in divide\n",
            "  ((x - self.feature_stats[c][\"mean\"]) ** 2) / (2 * self.feature_stats[c][\"var\"])\n",
            "C:\\Users\\Punnoose K Thomas\\AppData\\Local\\Temp\\ipykernel_5040\\2913327246.py:23: RuntimeWarning: invalid value encountered in add\n",
            "  np.log(2 * np.pi * self.feature_stats[c][\"var\"]) +\n"
          ]
        }
      ],
      "source": [
        "for train_index, test_index in kf.split(X):\n",
        "    # Split the data into training and testing for this fold\n",
        "    X_train, X_test = X.values[train_index], X.values[test_index]\n",
        "    y_train, y_test = y.values[train_index], y.values[test_index]\n",
        "\n",
        "    # Train and predict\n",
        "    nb = NaiveBayes()\n",
        "    nb.fit(X_train, y_train)\n",
        "    y_pred = nb.predict(X_test)\n",
        "\n",
        "    # Calculate accuracy for this fold\n",
        "    accuracy = np.mean(y_pred == y_test)\n",
        "    fold_accuracies.append(accuracy)"
      ]
    },
    {
      "cell_type": "code",
      "execution_count": 11,
      "metadata": {},
      "outputs": [
        {
          "name": "stdout",
          "output_type": "stream",
          "text": [
            "Cross-Validation Accuracy: 33.04%\n",
            "Accuracy per fold: [0.4375, 0.26666666666666666, 0.5333333333333333, 0.2, 0.4, 0.3333333333333333, 0.4, 0.26666666666666666, 0.3333333333333333, 0.13333333333333333]\n"
          ]
        }
      ],
      "source": [
        "mean_accuracy = np.mean(fold_accuracies)\n",
        "print(f\"Cross-Validation Accuracy: {mean_accuracy * 100:.2f}%\")\n",
        "print(f\"Accuracy per fold: {fold_accuracies}\")"
      ]
    },
    {
      "cell_type": "markdown",
      "metadata": {},
      "source": [
        "# Plot ROC Curves"
      ]
    },
    {
      "cell_type": "code",
      "execution_count": null,
      "metadata": {},
      "outputs": [],
      "source": [
        "class NaiveBayes:\n",
        "    def fit(self, X, y):\n",
        "        self.classes = np.unique(y)\n",
        "        self.feature_stats = {}\n",
        "        self.class_prior = {}\n",
        "\n",
        "        for c in self.classes:\n",
        "            X_c = X[y == c]\n",
        "            self.feature_stats[c] = {\n",
        "                \"mean\": X_c.mean(axis=0),\n",
        "                \"var\": X_c.var(axis=0)\n",
        "            }\n",
        "            self.class_prior[c] = len(X_c) / len(y)\n",
        "\n",
        "    def predict_proba(self, X):\n",
        "        probabilities = []\n",
        "\n",
        "        for x in X:\n",
        "            class_probs = []\n",
        "            for c in self.classes:\n",
        "                prior = np.log(self.class_prior[c])\n",
        "                likelihood = -0.5 * np.sum(\n",
        "                    np.log(2 * np.pi * self.feature_stats[c][\"var\"]) +\n",
        "                    ((x - self.feature_stats[c][\"mean\"]) ** 2) / (2 * self.feature_stats[c][\"var\"])\n",
        "                )\n",
        "                class_probs.append(prior + likelihood)\n",
        "            probabilities.append(np.exp(class_probs) / np.sum(np.exp(class_probs)))\n",
        "        \n",
        "        return np.array(probabilities)"
      ]
    },
    {
      "cell_type": "code",
      "execution_count": null,
      "metadata": {},
      "outputs": [],
      "source": [
        "for train_index, test_index in kf.split(X):\n",
        "    # Split the data into training and testing for this fold\n",
        "    X_train, X_test = X.values[train_index], X.values[test_index]\n",
        "    y_train, y_test = y_binarized[train_index], y_binarized[test_index]\n",
        "\n",
        "    # Train the model\n",
        "    nb = NaiveBayes()\n",
        "    nb.fit(X_train, y_train.argmax(axis=1))  # Train with non-binarized labels\n",
        "    y_proba = nb.predict_proba(X_test)\n",
        "\n",
        "    # Step 3: Calculate ROC for each class\n",
        "    for i in range(num_classes):\n",
        "        fpr_class, tpr_class, _ = roc_curve(y_test[:, i], y_proba[:, i])\n",
        "        interp_tpr = np.interp(mean_fpr, fpr_class, tpr_class)\n",
        "        interp_tpr[0] = 0.0  # Ensure the TPR starts at 0\n",
        "        tpr[i].append(interp_tpr)\n",
        "        roc_auc[i].append(auc(fpr_class, tpr_class))"
      ]
    },
    {
      "cell_type": "code",
      "execution_count": null,
      "metadata": {},
      "outputs": [],
      "source": [
        "plt.figure(figsize=(10, 8))\n",
        "colors = plt.cm.get_cmap(\"tab10\", num_classes)"
      ]
    },
    {
      "cell_type": "code",
      "execution_count": null,
      "metadata": {},
      "outputs": [],
      "source": [
        "for i in range(num_classes):\n",
        "    mean_tpr = np.mean(tpr[i], axis=0)\n",
        "    mean_tpr[-1] = 1.0  # Ensure the TPR ends at 1\n",
        "    mean_auc = np.mean(roc_auc[i])\n",
        "    plt.plot(mean_fpr, mean_tpr, label=f'Class {i} (AUC = {mean_auc:.2f})', color=colors(i))"
      ]
    },
    {
      "cell_type": "code",
      "execution_count": null,
      "metadata": {
        "id": "5SqE0iVHrckN"
      },
      "outputs": [
        {
          "name": "stderr",
          "output_type": "stream",
          "text": [
            "C:\\Users\\Punnoose K Thomas\\AppData\\Local\\Temp\\ipykernel_4472\\2913327246.py:23: RuntimeWarning: divide by zero encountered in log\n",
            "  np.log(2 * np.pi * self.feature_stats[c][\"var\"]) +\n",
            "C:\\Users\\Punnoose K Thomas\\AppData\\Local\\Temp\\ipykernel_4472\\2913327246.py:24: RuntimeWarning: divide by zero encountered in divide\n",
            "  ((x - self.feature_stats[c][\"mean\"]) ** 2) / (2 * self.feature_stats[c][\"var\"])\n",
            "C:\\Users\\Punnoose K Thomas\\AppData\\Local\\Temp\\ipykernel_4472\\2913327246.py:24: RuntimeWarning: invalid value encountered in divide\n",
            "  ((x - self.feature_stats[c][\"mean\"]) ** 2) / (2 * self.feature_stats[c][\"var\"])\n",
            "C:\\Users\\Punnoose K Thomas\\AppData\\Local\\Temp\\ipykernel_4472\\2913327246.py:23: RuntimeWarning: invalid value encountered in add\n",
            "  np.log(2 * np.pi * self.feature_stats[c][\"var\"]) +\n"
          ]
        }
      ],
      "source": [
        "plt.plot([0, 1], [0, 1], 'k--', lw=1)\n",
        "plt.xlabel('False Positive Rate')\n",
        "plt.ylabel('True Positive Rate')\n",
        "plt.title('ROC Curve for Iris Classification')\n",
        "plt.legend(loc='lower right')\n",
        "plt.grid(alpha=0.5)\n",
        "plt.show()"
      ]
    },
    {
      "cell_type": "markdown",
      "metadata": {
        "id": "Z-GCP0mireHf"
      },
      "source": [
        "# Step 6: Evaluate the Model"
      ]
    },
    {
      "cell_type": "code",
      "execution_count": 15,
      "metadata": {
        "id": "LZYMWi0ArgDa"
      },
      "outputs": [
        {
          "name": "stdout",
          "output_type": "stream",
          "text": [
            "Accuracy: 33.04%\n",
            "Accuracy per fold: [0.4375, 0.26666666666666666, 0.5333333333333333, 0.2, 0.4, 0.3333333333333333, 0.4, 0.26666666666666666, 0.3333333333333333, 0.13333333333333333]\n"
          ]
        }
      ],
      "source": [
        "accuracy = np.mean(fold_accuracies)\n",
        "print(f\"Accuracy: {accuracy * 100:.2f}%\")\n",
        "print(f\"Accuracy per fold: {fold_accuracies}\")"
      ]
    }
  ],
  "metadata": {
    "colab": {
      "provenance": []
    },
    "kernelspec": {
      "display_name": "Python 3",
      "name": "python3"
    },
    "language_info": {
      "codemirror_mode": {
        "name": "ipython",
        "version": 3
      },
      "file_extension": ".py",
      "mimetype": "text/x-python",
      "name": "python",
      "nbconvert_exporter": "python",
      "pygments_lexer": "ipython3",
      "version": "3.12.8"
    }
  },
  "nbformat": 4,
  "nbformat_minor": 0
}
